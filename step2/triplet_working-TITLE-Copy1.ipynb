{
 "cells": [
  {
   "cell_type": "code",
   "execution_count": null,
   "id": "cdcd5e70",
   "metadata": {},
   "outputs": [],
   "source": [
    "import os\n",
    "import pickle\n",
    "import torch\n",
    "from torch.utils.data import DataLoader\n",
    "import torch.nn as nn\n",
    "import torch.nn.functional as F\n",
    "import torch.optim as optim\n",
    "import random\n",
    "import numpy as np"
   ]
  },
  {
   "cell_type": "code",
   "execution_count": 2,
   "id": "8fdb9ffb",
   "metadata": {},
   "outputs": [],
   "source": [
    "device = torch.device(\"cuda:3\")"
   ]
  },
  {
   "cell_type": "code",
   "execution_count": 3,
   "id": "5cb4b71d",
   "metadata": {},
   "outputs": [],
   "source": [
    "class FeatureDataset(torch.utils.data.Dataset):\n",
    "    def __init__(self, dataset):\n",
    "        self.dataset = dataset\n",
    "    \n",
    "    def __len__(self):\n",
    "        return len(self.dataset[0])\n",
    "    \n",
    "    def __getitem__(self, idx):\n",
    "        img, text, label = self.dataset[0][idx],self.dataset[4][idx],self.dataset[3][idx]\n",
    "        \n",
    "        return img, text, label"
   ]
  },
  {
   "cell_type": "code",
   "execution_count": 4,
   "id": "e8d2edb7",
   "metadata": {},
   "outputs": [],
   "source": [
    "\n",
    "class Encoder(nn.Module):\n",
    "    def __init__(self,output_size,input_size=1024):\n",
    "        super().__init__()\n",
    "\n",
    "        self.layer1 = nn.Sequential(\n",
    "            nn.Linear(input_size,512),\n",
    "            nn.BatchNorm1d(512),\n",
    "            nn.Dropout(0.3),\n",
    "            nn.LeakyReLU()\n",
    "        )\n",
    "        self.layer2 = nn.Linear(512,output_size)\n",
    "    \n",
    "    def forward(self, x):\n",
    "        x = self.layer1(x)\n",
    "        return self.layer2(x)"
   ]
  },
  {
   "cell_type": "code",
   "execution_count": 5,
   "id": "4d6d3bd3",
   "metadata": {},
   "outputs": [],
   "source": [
    "def load_pickled_data(path):\n",
    "    with open(path, 'rb') as fp:\n",
    "        data = pickle.load(fp)\n",
    "    return data"
   ]
  },
  {
   "cell_type": "code",
   "execution_count": 6,
   "id": "1e9b3039",
   "metadata": {},
   "outputs": [],
   "source": [
    "img_text_features_train_LABELLED = load_pickled_data('/common/home/gg676/535/data/labelled_data/TITLE_embeddings_train_LABELLED.pkl')\n",
    "features_val = load_pickled_data('/common/home/gg676/535/data/labelled_data/TITLE_embeddings_val_LABELLED.pkl')\n",
    "features_test = load_pickled_data('/common/home/gg676/535/data/labelled_data/TITLE_embeddings_test_LABELLED.pkl')\n",
    "\n",
    "img_val = features_val[0]\n",
    "text_val = features_val[4]\n",
    "\n",
    "img_test = features_test[0]\n",
    "text_test = features_test[4]\n"
   ]
  },
  {
   "cell_type": "code",
   "execution_count": 7,
   "id": "2ff269ae",
   "metadata": {},
   "outputs": [
    {
     "data": {
      "text/plain": [
       "5"
      ]
     },
     "execution_count": 7,
     "metadata": {},
     "output_type": "execute_result"
    }
   ],
   "source": [
    "len(img_text_features_train_LABELLED)"
   ]
  },
  {
   "cell_type": "code",
   "execution_count": 8,
   "id": "fe395170",
   "metadata": {},
   "outputs": [],
   "source": [
    "\n",
    "dataset = FeatureDataset(img_text_features_train_LABELLED)\n",
    "train_loader = DataLoader(dataset, batch_size=64, shuffle=True, num_workers=60)"
   ]
  },
  {
   "cell_type": "code",
   "execution_count": 9,
   "id": "b0e0bc81",
   "metadata": {},
   "outputs": [],
   "source": [
    "def rank(txt_data, img_data):\n",
    "    results_dict = {}\n",
    "    projection_txt, projection_img = txt_data, img_data\n",
    "    med_dict = {}\n",
    "    idxs = range(1000)\n",
    "    \n",
    "    glob_rank = []\n",
    "    glob_recall = {1:0.0,5:0.0,10:0.0}\n",
    "    \n",
    "    for i in range(10):\n",
    "        ids = random.sample(range(0,txt_data.shape[0]-1), 1000)\n",
    "        \n",
    "        txt_sample = projection_txt[ids,:]\n",
    "        img_sample = projection_img[ids,:]\n",
    "        \n",
    "        similarity = np.dot(txt_sample.cpu().numpy(), img_sample.T.cpu().numpy())\n",
    "\n",
    "        med_rank = []\n",
    "        \n",
    "        recall = {1:0.0,5:0.0,10:0.0}\n",
    "        \n",
    "        for ii in idxs:\n",
    "            # get a column of similarities\n",
    "            sim = similarity[ii,:]\n",
    "            # sort indices in descending order\n",
    "            sorting = np.argsort(sim)[::-1].tolist()\n",
    "            # find where the index of the pair sample ended up in the sorting\n",
    "            pos = sorting.index(ii)  \n",
    "            if (pos+1) == 1:\n",
    "                recall[1]+=1\n",
    "            if (pos+1) <=5:\n",
    "                recall[5]+=1\n",
    "            if (pos+1)<=10:\n",
    "                recall[10]+=1\n",
    "            # store the position\n",
    "            med_rank.append(pos+1)\n",
    "        for i in recall.keys():\n",
    "            recall[i]=recall[i]/1000\n",
    "        med = np.median(med_rank)\n",
    "        for i in recall.keys():\n",
    "            glob_recall[i]+=recall[i]\n",
    "        glob_rank.append(med)\n",
    "\n",
    "    for i in glob_recall.keys():\n",
    "        glob_recall[i] = glob_recall[i]/10\n",
    "    \n",
    "    med_dict[\"mean_median\"] = np.average(glob_rank)\n",
    "    med_dict[\"recall\"] = glob_recall\n",
    "    med_dict[\"median_all\"] = glob_rank\n",
    "    print(\"Result:\",med_dict)\n",
    "    return med_dict"
   ]
  },
  {
   "cell_type": "code",
   "execution_count": 10,
   "id": "afd02611",
   "metadata": {},
   "outputs": [],
   "source": [
    "model_img = Encoder(512)\n",
    "model_text = Encoder(512)\n",
    "optimizer = optim.Adam(list(model_text.parameters()) + list(model_img.parameters()) , lr=1e-6)\n",
    "scheduler = torch.optim.lr_scheduler.ReduceLROnPlateau(optimizer, mode='max', patience=2, verbose=True)\n",
    "loss = nn.TripletMarginWithDistanceLoss(distance_function=lambda x, y: 1.0 - F.cosine_similarity(x, y))"
   ]
  },
  {
   "cell_type": "code",
   "execution_count": 11,
   "id": "b9aa0afa",
   "metadata": {},
   "outputs": [],
   "source": [
    "def get_hard_negative(anchor,positive,label):\n",
    "    labels_equal = torch.eq(label.unsqueeze(0),label.unsqueeze(1))\n",
    "    mask_neg = torch.logical_not(labels_equal)\n",
    "    distance_matrix = torch.matmul(anchor, positive.T)\n",
    "    anchor_negative_dist = mask_neg * distance_matrix\n",
    "    hard_negative_idx = torch.argmax(anchor_negative_dist, dim=1)\n",
    "    hard_negative = torch.index_select(positive, 0, hard_negative_idx)\n",
    "    \n",
    "    return hard_negative"
   ]
  },
  {
   "cell_type": "code",
   "execution_count": 12,
   "id": "61851231",
   "metadata": {},
   "outputs": [],
   "source": [
    "from tqdm import tqdm\n",
    "def train(train_loader, img_model, txt_model, loss, optimizer): \n",
    "    total_loss = 0.0       \n",
    "    for i, (img_input_batch, text_input_batch,label) in tqdm(enumerate(train_loader)):\n",
    "        img_input_batch = img_input_batch.to(device)\n",
    "        text_input_batch = text_input_batch.to(device)\n",
    "        label = label.to(device)\n",
    "        hard_negative_emb = get_hard_negative(img_input_batch,text_input_batch,label)\n",
    "        optimizer.zero_grad()\n",
    "        anchor = img_model(img_input_batch.to(device)) \n",
    "        positive = txt_model(text_input_batch.to(device))\n",
    "        negative = txt_model(hard_negative_emb.to(device))\n",
    "        curr_loss = loss(anchor,positive,negative) \n",
    "        curr_loss.backward()\n",
    "        optimizer.step()\n",
    "        total_loss += curr_loss.item()\n",
    "    return total_loss/i"
   ]
  },
  {
   "cell_type": "code",
   "execution_count": 13,
   "id": "d4f1d6d8",
   "metadata": {},
   "outputs": [],
   "source": [
    "def save_model(model, file_name):\n",
    "    torch.save(model, '/common/home/gg676/535/saved_models/'+file_name)"
   ]
  },
  {
   "cell_type": "code",
   "execution_count": 14,
   "id": "cfa8f4b2",
   "metadata": {},
   "outputs": [],
   "source": [
    "def load_model(file_name):\n",
    "    model = torch.load('/common/home/gg676/535/saved_models/'+file_name)\n",
    "    return model"
   ]
  },
  {
   "cell_type": "code",
   "execution_count": 15,
   "id": "50ee6497",
   "metadata": {},
   "outputs": [
    {
     "name": "stderr",
     "output_type": "stream",
     "text": [
      "4400it [00:37, 118.11it/s]\n"
     ]
    },
    {
     "name": "stdout",
     "output_type": "stream",
     "text": [
      "Result: {'mean_median': 213.5, 'recall': {1: 0.011899999999999997, 5: 0.043, 10: 0.0709}, 'median_all': [198.0, 199.5, 218.0, 213.0, 214.0, 217.5, 202.5, 206.0, 242.0, 224.5]}\n",
      "Epoch 0 loss: 0.9930150930814836\n"
     ]
    },
    {
     "name": "stderr",
     "output_type": "stream",
     "text": [
      "4400it [00:34, 125.89it/s]\n"
     ]
    },
    {
     "ename": "RuntimeError",
     "evalue": "CUDA out of memory. Tried to allocate 550.00 MiB (GPU 3; 14.75 GiB total capacity; 3.25 GiB already allocated; 118.81 MiB free; 3.25 GiB reserved in total by PyTorch)",
     "output_type": "error",
     "traceback": [
      "\u001b[0;31m---------------------------------------------------------------------------\u001b[0m",
      "\u001b[0;31mRuntimeError\u001b[0m                              Traceback (most recent call last)",
      "\u001b[0;32m<ipython-input-15-72202e3a485c>\u001b[0m in \u001b[0;36m<module>\u001b[0;34m\u001b[0m\n\u001b[1;32m     10\u001b[0m         \u001b[0mmodel_img\u001b[0m\u001b[0;34m.\u001b[0m\u001b[0meval\u001b[0m\u001b[0;34m(\u001b[0m\u001b[0;34m)\u001b[0m\u001b[0;34m\u001b[0m\u001b[0;34m\u001b[0m\u001b[0m\n\u001b[1;32m     11\u001b[0m         \u001b[0mmodel_text\u001b[0m\u001b[0;34m.\u001b[0m\u001b[0meval\u001b[0m\u001b[0;34m(\u001b[0m\u001b[0;34m)\u001b[0m\u001b[0;34m\u001b[0m\u001b[0;34m\u001b[0m\u001b[0m\n\u001b[0;32m---> 12\u001b[0;31m         \u001b[0mout_text\u001b[0m\u001b[0;34m,\u001b[0m \u001b[0mout_img\u001b[0m \u001b[0;34m=\u001b[0m \u001b[0mmodel_text\u001b[0m\u001b[0;34m(\u001b[0m\u001b[0mtorch\u001b[0m\u001b[0;34m.\u001b[0m\u001b[0mtensor\u001b[0m\u001b[0;34m(\u001b[0m\u001b[0mtext_val\u001b[0m\u001b[0;34m)\u001b[0m\u001b[0;34m.\u001b[0m\u001b[0mto\u001b[0m\u001b[0;34m(\u001b[0m\u001b[0;34m'cuda:3'\u001b[0m\u001b[0;34m)\u001b[0m\u001b[0;34m)\u001b[0m\u001b[0;34m,\u001b[0m \u001b[0mmodel_img\u001b[0m\u001b[0;34m(\u001b[0m\u001b[0mtorch\u001b[0m\u001b[0;34m.\u001b[0m\u001b[0mtensor\u001b[0m\u001b[0;34m(\u001b[0m\u001b[0mimg_val\u001b[0m\u001b[0;34m)\u001b[0m\u001b[0;34m.\u001b[0m\u001b[0mto\u001b[0m\u001b[0;34m(\u001b[0m\u001b[0;34m'cuda:3'\u001b[0m\u001b[0;34m)\u001b[0m\u001b[0;34m)\u001b[0m\u001b[0;34m\u001b[0m\u001b[0;34m\u001b[0m\u001b[0m\n\u001b[0m\u001b[1;32m     13\u001b[0m         \u001b[0mmed_rank\u001b[0m \u001b[0;34m=\u001b[0m \u001b[0mrank\u001b[0m\u001b[0;34m(\u001b[0m\u001b[0mout_text\u001b[0m\u001b[0;34m,\u001b[0m\u001b[0mout_img\u001b[0m\u001b[0;34m)\u001b[0m\u001b[0;34m\u001b[0m\u001b[0;34m\u001b[0m\u001b[0m\n\u001b[1;32m     14\u001b[0m         \u001b[0;32mif\u001b[0m \u001b[0mmed_rank\u001b[0m\u001b[0;34m[\u001b[0m\u001b[0;34m'mean_median'\u001b[0m\u001b[0;34m]\u001b[0m \u001b[0;34m<\u001b[0m \u001b[0mlowest_median_rank\u001b[0m\u001b[0;34m:\u001b[0m\u001b[0;34m\u001b[0m\u001b[0;34m\u001b[0m\u001b[0m\n",
      "\u001b[0;32m/opt/conda/lib/python3.8/site-packages/torch/nn/modules/module.py\u001b[0m in \u001b[0;36m_call_impl\u001b[0;34m(self, *input, **kwargs)\u001b[0m\n\u001b[1;32m   1049\u001b[0m         if not (self._backward_hooks or self._forward_hooks or self._forward_pre_hooks or _global_backward_hooks\n\u001b[1;32m   1050\u001b[0m                 or _global_forward_hooks or _global_forward_pre_hooks):\n\u001b[0;32m-> 1051\u001b[0;31m             \u001b[0;32mreturn\u001b[0m \u001b[0mforward_call\u001b[0m\u001b[0;34m(\u001b[0m\u001b[0;34m*\u001b[0m\u001b[0minput\u001b[0m\u001b[0;34m,\u001b[0m \u001b[0;34m**\u001b[0m\u001b[0mkwargs\u001b[0m\u001b[0;34m)\u001b[0m\u001b[0;34m\u001b[0m\u001b[0;34m\u001b[0m\u001b[0m\n\u001b[0m\u001b[1;32m   1052\u001b[0m         \u001b[0;31m# Do not call functions when jit is used\u001b[0m\u001b[0;34m\u001b[0m\u001b[0;34m\u001b[0m\u001b[0;34m\u001b[0m\u001b[0m\n\u001b[1;32m   1053\u001b[0m         \u001b[0mfull_backward_hooks\u001b[0m\u001b[0;34m,\u001b[0m \u001b[0mnon_full_backward_hooks\u001b[0m \u001b[0;34m=\u001b[0m \u001b[0;34m[\u001b[0m\u001b[0;34m]\u001b[0m\u001b[0;34m,\u001b[0m \u001b[0;34m[\u001b[0m\u001b[0;34m]\u001b[0m\u001b[0;34m\u001b[0m\u001b[0;34m\u001b[0m\u001b[0m\n",
      "\u001b[0;32m<ipython-input-4-5862dc68ee0d>\u001b[0m in \u001b[0;36mforward\u001b[0;34m(self, x)\u001b[0m\n\u001b[1;32m     12\u001b[0m \u001b[0;34m\u001b[0m\u001b[0m\n\u001b[1;32m     13\u001b[0m     \u001b[0;32mdef\u001b[0m \u001b[0mforward\u001b[0m\u001b[0;34m(\u001b[0m\u001b[0mself\u001b[0m\u001b[0;34m,\u001b[0m \u001b[0mx\u001b[0m\u001b[0;34m)\u001b[0m\u001b[0;34m:\u001b[0m\u001b[0;34m\u001b[0m\u001b[0;34m\u001b[0m\u001b[0m\n\u001b[0;32m---> 14\u001b[0;31m         \u001b[0mx\u001b[0m \u001b[0;34m=\u001b[0m \u001b[0mself\u001b[0m\u001b[0;34m.\u001b[0m\u001b[0mlayer1\u001b[0m\u001b[0;34m(\u001b[0m\u001b[0mx\u001b[0m\u001b[0;34m)\u001b[0m\u001b[0;34m\u001b[0m\u001b[0;34m\u001b[0m\u001b[0m\n\u001b[0m\u001b[1;32m     15\u001b[0m         \u001b[0;32mreturn\u001b[0m \u001b[0mself\u001b[0m\u001b[0;34m.\u001b[0m\u001b[0mlayer2\u001b[0m\u001b[0;34m(\u001b[0m\u001b[0mx\u001b[0m\u001b[0;34m)\u001b[0m\u001b[0;34m\u001b[0m\u001b[0;34m\u001b[0m\u001b[0m\n",
      "\u001b[0;32m/opt/conda/lib/python3.8/site-packages/torch/nn/modules/module.py\u001b[0m in \u001b[0;36m_call_impl\u001b[0;34m(self, *input, **kwargs)\u001b[0m\n\u001b[1;32m   1049\u001b[0m         if not (self._backward_hooks or self._forward_hooks or self._forward_pre_hooks or _global_backward_hooks\n\u001b[1;32m   1050\u001b[0m                 or _global_forward_hooks or _global_forward_pre_hooks):\n\u001b[0;32m-> 1051\u001b[0;31m             \u001b[0;32mreturn\u001b[0m \u001b[0mforward_call\u001b[0m\u001b[0;34m(\u001b[0m\u001b[0;34m*\u001b[0m\u001b[0minput\u001b[0m\u001b[0;34m,\u001b[0m \u001b[0;34m**\u001b[0m\u001b[0mkwargs\u001b[0m\u001b[0;34m)\u001b[0m\u001b[0;34m\u001b[0m\u001b[0;34m\u001b[0m\u001b[0m\n\u001b[0m\u001b[1;32m   1052\u001b[0m         \u001b[0;31m# Do not call functions when jit is used\u001b[0m\u001b[0;34m\u001b[0m\u001b[0;34m\u001b[0m\u001b[0;34m\u001b[0m\u001b[0m\n\u001b[1;32m   1053\u001b[0m         \u001b[0mfull_backward_hooks\u001b[0m\u001b[0;34m,\u001b[0m \u001b[0mnon_full_backward_hooks\u001b[0m \u001b[0;34m=\u001b[0m \u001b[0;34m[\u001b[0m\u001b[0;34m]\u001b[0m\u001b[0;34m,\u001b[0m \u001b[0;34m[\u001b[0m\u001b[0;34m]\u001b[0m\u001b[0;34m\u001b[0m\u001b[0;34m\u001b[0m\u001b[0m\n",
      "\u001b[0;32m/opt/conda/lib/python3.8/site-packages/torch/nn/modules/container.py\u001b[0m in \u001b[0;36mforward\u001b[0;34m(self, input)\u001b[0m\n\u001b[1;32m    137\u001b[0m     \u001b[0;32mdef\u001b[0m \u001b[0mforward\u001b[0m\u001b[0;34m(\u001b[0m\u001b[0mself\u001b[0m\u001b[0;34m,\u001b[0m \u001b[0minput\u001b[0m\u001b[0;34m)\u001b[0m\u001b[0;34m:\u001b[0m\u001b[0;34m\u001b[0m\u001b[0;34m\u001b[0m\u001b[0m\n\u001b[1;32m    138\u001b[0m         \u001b[0;32mfor\u001b[0m \u001b[0mmodule\u001b[0m \u001b[0;32min\u001b[0m \u001b[0mself\u001b[0m\u001b[0;34m:\u001b[0m\u001b[0;34m\u001b[0m\u001b[0;34m\u001b[0m\u001b[0m\n\u001b[0;32m--> 139\u001b[0;31m             \u001b[0minput\u001b[0m \u001b[0;34m=\u001b[0m \u001b[0mmodule\u001b[0m\u001b[0;34m(\u001b[0m\u001b[0minput\u001b[0m\u001b[0;34m)\u001b[0m\u001b[0;34m\u001b[0m\u001b[0;34m\u001b[0m\u001b[0m\n\u001b[0m\u001b[1;32m    140\u001b[0m         \u001b[0;32mreturn\u001b[0m \u001b[0minput\u001b[0m\u001b[0;34m\u001b[0m\u001b[0;34m\u001b[0m\u001b[0m\n\u001b[1;32m    141\u001b[0m \u001b[0;34m\u001b[0m\u001b[0m\n",
      "\u001b[0;32m/opt/conda/lib/python3.8/site-packages/torch/nn/modules/module.py\u001b[0m in \u001b[0;36m_call_impl\u001b[0;34m(self, *input, **kwargs)\u001b[0m\n\u001b[1;32m   1049\u001b[0m         if not (self._backward_hooks or self._forward_hooks or self._forward_pre_hooks or _global_backward_hooks\n\u001b[1;32m   1050\u001b[0m                 or _global_forward_hooks or _global_forward_pre_hooks):\n\u001b[0;32m-> 1051\u001b[0;31m             \u001b[0;32mreturn\u001b[0m \u001b[0mforward_call\u001b[0m\u001b[0;34m(\u001b[0m\u001b[0;34m*\u001b[0m\u001b[0minput\u001b[0m\u001b[0;34m,\u001b[0m \u001b[0;34m**\u001b[0m\u001b[0mkwargs\u001b[0m\u001b[0;34m)\u001b[0m\u001b[0;34m\u001b[0m\u001b[0;34m\u001b[0m\u001b[0m\n\u001b[0m\u001b[1;32m   1052\u001b[0m         \u001b[0;31m# Do not call functions when jit is used\u001b[0m\u001b[0;34m\u001b[0m\u001b[0;34m\u001b[0m\u001b[0;34m\u001b[0m\u001b[0m\n\u001b[1;32m   1053\u001b[0m         \u001b[0mfull_backward_hooks\u001b[0m\u001b[0;34m,\u001b[0m \u001b[0mnon_full_backward_hooks\u001b[0m \u001b[0;34m=\u001b[0m \u001b[0;34m[\u001b[0m\u001b[0;34m]\u001b[0m\u001b[0;34m,\u001b[0m \u001b[0;34m[\u001b[0m\u001b[0;34m]\u001b[0m\u001b[0;34m\u001b[0m\u001b[0;34m\u001b[0m\u001b[0m\n",
      "\u001b[0;32m/opt/conda/lib/python3.8/site-packages/torch/nn/modules/batchnorm.py\u001b[0m in \u001b[0;36mforward\u001b[0;34m(self, input)\u001b[0m\n\u001b[1;32m    165\u001b[0m         \u001b[0;32massert\u001b[0m \u001b[0mself\u001b[0m\u001b[0;34m.\u001b[0m\u001b[0mrunning_mean\u001b[0m \u001b[0;32mis\u001b[0m \u001b[0;32mNone\u001b[0m \u001b[0;32mor\u001b[0m \u001b[0misinstance\u001b[0m\u001b[0;34m(\u001b[0m\u001b[0mself\u001b[0m\u001b[0;34m.\u001b[0m\u001b[0mrunning_mean\u001b[0m\u001b[0;34m,\u001b[0m \u001b[0mtorch\u001b[0m\u001b[0;34m.\u001b[0m\u001b[0mTensor\u001b[0m\u001b[0;34m)\u001b[0m\u001b[0;34m\u001b[0m\u001b[0;34m\u001b[0m\u001b[0m\n\u001b[1;32m    166\u001b[0m         \u001b[0;32massert\u001b[0m \u001b[0mself\u001b[0m\u001b[0;34m.\u001b[0m\u001b[0mrunning_var\u001b[0m \u001b[0;32mis\u001b[0m \u001b[0;32mNone\u001b[0m \u001b[0;32mor\u001b[0m \u001b[0misinstance\u001b[0m\u001b[0;34m(\u001b[0m\u001b[0mself\u001b[0m\u001b[0;34m.\u001b[0m\u001b[0mrunning_var\u001b[0m\u001b[0;34m,\u001b[0m \u001b[0mtorch\u001b[0m\u001b[0;34m.\u001b[0m\u001b[0mTensor\u001b[0m\u001b[0;34m)\u001b[0m\u001b[0;34m\u001b[0m\u001b[0;34m\u001b[0m\u001b[0m\n\u001b[0;32m--> 167\u001b[0;31m         return F.batch_norm(\n\u001b[0m\u001b[1;32m    168\u001b[0m             \u001b[0minput\u001b[0m\u001b[0;34m,\u001b[0m\u001b[0;34m\u001b[0m\u001b[0;34m\u001b[0m\u001b[0m\n\u001b[1;32m    169\u001b[0m             \u001b[0;31m# If buffers are not to be tracked, ensure that they won't be updated\u001b[0m\u001b[0;34m\u001b[0m\u001b[0;34m\u001b[0m\u001b[0;34m\u001b[0m\u001b[0m\n",
      "\u001b[0;32m/opt/conda/lib/python3.8/site-packages/torch/nn/functional.py\u001b[0m in \u001b[0;36mbatch_norm\u001b[0;34m(input, running_mean, running_var, weight, bias, training, momentum, eps)\u001b[0m\n\u001b[1;32m   2260\u001b[0m         \u001b[0m_verify_batch_size\u001b[0m\u001b[0;34m(\u001b[0m\u001b[0minput\u001b[0m\u001b[0;34m.\u001b[0m\u001b[0msize\u001b[0m\u001b[0;34m(\u001b[0m\u001b[0;34m)\u001b[0m\u001b[0;34m)\u001b[0m\u001b[0;34m\u001b[0m\u001b[0;34m\u001b[0m\u001b[0m\n\u001b[1;32m   2261\u001b[0m \u001b[0;34m\u001b[0m\u001b[0m\n\u001b[0;32m-> 2262\u001b[0;31m     return torch.batch_norm(\n\u001b[0m\u001b[1;32m   2263\u001b[0m         \u001b[0minput\u001b[0m\u001b[0;34m,\u001b[0m \u001b[0mweight\u001b[0m\u001b[0;34m,\u001b[0m \u001b[0mbias\u001b[0m\u001b[0;34m,\u001b[0m \u001b[0mrunning_mean\u001b[0m\u001b[0;34m,\u001b[0m \u001b[0mrunning_var\u001b[0m\u001b[0;34m,\u001b[0m \u001b[0mtraining\u001b[0m\u001b[0;34m,\u001b[0m \u001b[0mmomentum\u001b[0m\u001b[0;34m,\u001b[0m \u001b[0meps\u001b[0m\u001b[0;34m,\u001b[0m \u001b[0mtorch\u001b[0m\u001b[0;34m.\u001b[0m\u001b[0mbackends\u001b[0m\u001b[0;34m.\u001b[0m\u001b[0mcudnn\u001b[0m\u001b[0;34m.\u001b[0m\u001b[0menabled\u001b[0m\u001b[0;34m\u001b[0m\u001b[0;34m\u001b[0m\u001b[0m\n\u001b[1;32m   2264\u001b[0m     )\n",
      "\u001b[0;31mRuntimeError\u001b[0m: CUDA out of memory. Tried to allocate 550.00 MiB (GPU 3; 14.75 GiB total capacity; 3.25 GiB already allocated; 118.81 MiB free; 3.25 GiB reserved in total by PyTorch)"
     ]
    }
   ],
   "source": [
    "no_epochs = 15\n",
    "model_img = model_img.to(device)\n",
    "model_text = model_text.to(device)\n",
    "model_img.train()\n",
    "model_text.train()\n",
    "lowest_median_rank = 99.0\n",
    "for epoch in range(no_epochs):\n",
    "    train_loss = train(train_loader, model_img, model_text,loss,optimizer)\n",
    "    with torch.no_grad():\n",
    "        model_img.eval()\n",
    "        model_text.eval()\n",
    "        out_text, out_img = model_text(torch.tensor(text_val).to('cuda:3')), model_img(torch.tensor(img_val).to('cuda:3'))\n",
    "        med_rank = rank(out_text,out_img)\n",
    "        if med_rank['mean_median'] < lowest_median_rank:\n",
    "            lowest_median_rank = med_rank['mean_median']\n",
    "            save_model(model_text, 'title_model_triplet')\n",
    "            save_model(model_img, 'img_title_model_triplet')\n",
    "    scheduler.step(med_rank['recall'][1])\n",
    "    print('Epoch {} loss: {}'.format(epoch, train_loss))"
   ]
  },
  {
   "cell_type": "code",
   "execution_count": null,
   "id": "98ca8305",
   "metadata": {},
   "outputs": [],
   "source": [
    "txt_model = load_model('text_model_triplet')\n",
    "img_model = load_model('img_model_triplet')\n",
    "with torch.no_grad():\n",
    "    img_model.eval()\n",
    "    txt_model.eval()\n",
    "    r_text = txt_model(torch.tensor(text_test).to('cuda:1'))\n",
    "    r_img = img_model(torch.tensor(img_test).to('cuda:1'))\n",
    "    test_result = rank(r_text, r_img)\n",
    "test_result"
   ]
  },
  {
   "cell_type": "code",
   "execution_count": null,
   "id": "41e0c701",
   "metadata": {},
   "outputs": [],
   "source": [
    "with open('/common/home/gg676/535/task_2/tsne_data/title_text_triplet.pkl', 'wb') as fp:\n",
    "    pickle.dump(r_text, fp)\n",
    "with open('/common/home/gg676/535/task_2/tsne_data/title_img_triplet.pkl', 'wb') as fp:\n",
    "    pickle.dump(r_img, fp)"
   ]
  },
  {
   "cell_type": "code",
   "execution_count": null,
   "id": "6940fc34",
   "metadata": {},
   "outputs": [],
   "source": []
  }
 ],
 "metadata": {
  "kernelspec": {
   "display_name": "Python 3",
   "language": "python",
   "name": "python3"
  },
  "language_info": {
   "codemirror_mode": {
    "name": "ipython",
    "version": 3
   },
   "file_extension": ".py",
   "mimetype": "text/x-python",
   "name": "python",
   "nbconvert_exporter": "python",
   "pygments_lexer": "ipython3",
   "version": "3.8.10"
  }
 },
 "nbformat": 4,
 "nbformat_minor": 5
}
