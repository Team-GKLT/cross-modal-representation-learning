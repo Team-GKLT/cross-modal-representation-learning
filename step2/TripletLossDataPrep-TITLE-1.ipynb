{
 "cells": [
  {
   "cell_type": "code",
   "execution_count": 1,
   "id": "12d476f6",
   "metadata": {},
   "outputs": [],
   "source": [
    "import pickle\n",
    "import pandas as pd\n",
    "import numpy as np\n",
    "from collections import Counter"
   ]
  },
  {
   "cell_type": "code",
   "execution_count": 2,
   "id": "f3fd8218",
   "metadata": {},
   "outputs": [],
   "source": [
    "def load_pickled_data(path):\n",
    "    with open(path, 'rb') as fp:\n",
    "        data = pickle.load(fp)\n",
    "    return data"
   ]
  },
  {
   "cell_type": "code",
   "execution_count": 3,
   "id": "06a60cf3",
   "metadata": {},
   "outputs": [],
   "source": [
    "img_text_features_train = load_pickled_data('/common/home/gg676/Downloads/embeddings_train1.pkl')\n",
    "img_text_features_val = load_pickled_data('/common/home/gg676/Downloads/embeddings_val1.pkl')\n",
    "img_text_features_test = load_pickled_data('/common/home/gg676/Downloads/embeddings_test1.pkl')"
   ]
  },
  {
   "cell_type": "code",
   "execution_count": 4,
   "id": "9df15bb1",
   "metadata": {},
   "outputs": [],
   "source": [
    "title_features_train = load_pickled_data('/common/home/gg676/Downloads/title_embeddings_train.pkl')\n",
    "title_features_val = load_pickled_data('/common/home/gg676/Downloads/title_embeddings_val.pkl')\n",
    "title_features_test = load_pickled_data('/common/home/gg676/Downloads/title_embeddings_test.pkl')"
   ]
  },
  {
   "cell_type": "code",
   "execution_count": 6,
   "id": "f87c2dfc",
   "metadata": {},
   "outputs": [
    {
     "data": {
      "text/plain": [
       "array(['000075604a', '00007bfd16', '000095fc1d', ..., 'ffffcd4444',\n",
       "       'ffffd33513', 'ffffd533d7'], dtype='<U10')"
      ]
     },
     "execution_count": 6,
     "metadata": {},
     "output_type": "execute_result"
    }
   ],
   "source": [
    "title_features_train[1]"
   ]
  },
  {
   "cell_type": "code",
   "execution_count": 5,
   "id": "c31aaeba",
   "metadata": {},
   "outputs": [],
   "source": [
    "label_data = load_pickled_data('/common/home/gg676/Downloads/classes1M.pkl')"
   ]
  },
  {
   "cell_type": "code",
   "execution_count": 9,
   "id": "8a2f9103",
   "metadata": {},
   "outputs": [
    {
     "data": {
      "text/plain": [
       "array(['000075604a', '00007bfd16', '000095fc1d', ..., 'ffffcd4444',\n",
       "       'ffffd33513', 'ffffd533d7'], dtype='<U10')"
      ]
     },
     "execution_count": 9,
     "metadata": {},
     "output_type": "execute_result"
    }
   ],
   "source": [
    "img_text_features_train[2]"
   ]
  },
  {
   "cell_type": "code",
   "execution_count": 6,
   "id": "7a5a0664",
   "metadata": {},
   "outputs": [
    {
     "data": {
      "text/plain": [
       "numpy.ndarray"
      ]
     },
     "execution_count": 6,
     "metadata": {},
     "output_type": "execute_result"
    }
   ],
   "source": [
    "type(img_text_features_train[2])"
   ]
  },
  {
   "cell_type": "code",
   "execution_count": 7,
   "id": "aacb6b72",
   "metadata": {},
   "outputs": [
    {
     "data": {
      "text/plain": [
       "0"
      ]
     },
     "execution_count": 7,
     "metadata": {},
     "output_type": "execute_result"
    }
   ],
   "source": [
    "label_data['33b7e6c256']"
   ]
  },
  {
   "cell_type": "code",
   "execution_count": 8,
   "id": "a80d031e",
   "metadata": {},
   "outputs": [
    {
     "data": {
      "text/plain": [
       "array([[ 3.5625214e-03, -2.9569205e-02, -3.0080432e-03, ...,\n",
       "        -3.6181681e-02,  1.3613974e-02,  1.9534070e-02],\n",
       "       [-4.1233398e-02,  4.1631665e-03, -2.4289919e-02, ...,\n",
       "        -4.4584189e-02, -9.1731371e-03, -4.6936791e-02],\n",
       "       [ 2.3538087e-02,  1.3681030e-02, -7.0567755e-04, ...,\n",
       "         3.2300811e-02, -2.3449561e-02, -1.3522487e-03],\n",
       "       ...,\n",
       "       [-8.8319131e-05, -4.5286018e-02, -1.2053514e-02, ...,\n",
       "        -4.5443874e-02,  4.5532896e-03, -4.0479880e-02],\n",
       "       [ 2.1562416e-02, -1.0263286e-02,  2.5310190e-02, ...,\n",
       "         1.7211208e-02,  2.5803356e-02, -7.6623042e-03],\n",
       "       [ 9.2169354e-03, -3.2606434e-02, -3.1253375e-02, ...,\n",
       "         3.5631977e-02, -2.3654357e-02, -4.7896872e-03]], dtype=float32)"
      ]
     },
     "execution_count": 8,
     "metadata": {},
     "output_type": "execute_result"
    }
   ],
   "source": [
    "img_text_features_train[1]"
   ]
  },
  {
   "cell_type": "code",
   "execution_count": 9,
   "id": "1577764a",
   "metadata": {},
   "outputs": [],
   "source": [
    "counts = Counter(label_data.values())"
   ]
  },
  {
   "cell_type": "code",
   "execution_count": 10,
   "id": "9becb254",
   "metadata": {},
   "outputs": [],
   "source": [
    "#sum(lambda x: x in counts[1])"
   ]
  },
  {
   "cell_type": "code",
   "execution_count": 6,
   "id": "483a21ea",
   "metadata": {},
   "outputs": [],
   "source": [
    "img_text_features_train_label_column = []\n",
    "title_features_train_column = []\n",
    "for i in range(len(img_text_features_val[2])):\n",
    "    img_text_features_train_label_column.append(label_data[img_text_features_train[2][i]])\n",
    "    title_features_train_column.append(title_features_train[0][i])\n",
    "img_text_features_train_label_column = np.array(img_text_features_train_label_column)\n",
    "title_features_train_column = np.array(title_features_train_column)"
   ]
  },
  {
   "cell_type": "code",
   "execution_count": 7,
   "id": "44c1d826",
   "metadata": {},
   "outputs": [
    {
     "data": {
      "text/plain": [
       "281598"
      ]
     },
     "execution_count": 7,
     "metadata": {},
     "output_type": "execute_result"
    }
   ],
   "source": [
    "len(title_features_train_column)"
   ]
  },
  {
   "cell_type": "code",
   "execution_count": 8,
   "id": "bea4146f",
   "metadata": {},
   "outputs": [
    {
     "data": {
      "text/plain": [
       "281598"
      ]
     },
     "execution_count": 8,
     "metadata": {},
     "output_type": "execute_result"
    }
   ],
   "source": [
    "len(img_text_features_train_label_column)"
   ]
  },
  {
   "cell_type": "code",
   "execution_count": 9,
   "id": "ab575823",
   "metadata": {},
   "outputs": [],
   "source": [
    "img_text_features_train.append(img_text_features_train_label_column)\n",
    "img_text_features_train.append(title_features_train_column)"
   ]
  },
  {
   "cell_type": "code",
   "execution_count": 10,
   "id": "03060407",
   "metadata": {},
   "outputs": [
    {
     "data": {
      "text/plain": [
       "5"
      ]
     },
     "execution_count": 10,
     "metadata": {},
     "output_type": "execute_result"
    }
   ],
   "source": [
    "len(img_text_features_train)"
   ]
  },
  {
   "cell_type": "code",
   "execution_count": 11,
   "id": "75f047a5",
   "metadata": {},
   "outputs": [],
   "source": [
    "with open('/common/home/gg676/535/data/labelled_data/TITLE_embeddings_train_LABELLED.pkl', 'wb') as fp:\n",
    "    pickle.dump(img_text_features_train, fp)"
   ]
  },
  {
   "cell_type": "code",
   "execution_count": null,
   "id": "a8a09ba5",
   "metadata": {},
   "outputs": [],
   "source": []
  }
 ],
 "metadata": {
  "kernelspec": {
   "display_name": "Python 3",
   "language": "python",
   "name": "python3"
  },
  "language_info": {
   "codemirror_mode": {
    "name": "ipython",
    "version": 3
   },
   "file_extension": ".py",
   "mimetype": "text/x-python",
   "name": "python",
   "nbconvert_exporter": "python",
   "pygments_lexer": "ipython3",
   "version": "3.8.10"
  }
 },
 "nbformat": 4,
 "nbformat_minor": 5
}
