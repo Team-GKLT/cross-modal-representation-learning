{
 "cells": [
  {
   "cell_type": "code",
   "execution_count": 1,
   "id": "cdcd5e70",
   "metadata": {},
   "outputs": [],
   "source": [
    "import os\n",
    "import pickle\n",
    "import torch\n",
    "from torch.utils.data import DataLoader\n",
    "import torch.nn as nn\n",
    "import torch.nn.functional as F\n",
    "import torch.optim as optim\n",
    "import random\n",
    "import numpy as np"
   ]
  },
  {
   "cell_type": "code",
   "execution_count": 2,
   "id": "8fdb9ffb",
   "metadata": {},
   "outputs": [],
   "source": [
    "device = torch.device(\"cuda:1\")"
   ]
  },
  {
   "cell_type": "code",
   "execution_count": 17,
   "id": "5cb4b71d",
   "metadata": {},
   "outputs": [],
   "source": [
    "class FeatureDataset(torch.utils.data.Dataset):\n",
    "    def __init__(self, dataset):\n",
    "        self.dataset = dataset\n",
    "    \n",
    "    def __len__(self):\n",
    "        return len(self.dataset[0])\n",
    "    \n",
    "    def __getitem__(self, idx):\n",
    "        img,text,label = self.dataset[0][idx],self.dataset[1][idx],self.dataset[3][idx]\n",
    "        \n",
    "        return img, text, label"
   ]
  },
  {
   "cell_type": "code",
   "execution_count": 18,
   "id": "e8d2edb7",
   "metadata": {},
   "outputs": [],
   "source": [
    "\n",
    "class Encoder(nn.Module):\n",
    "    def __init__(self,output_size,input_size=1024):\n",
    "        super().__init__()\n",
    "\n",
    "        self.layer1 = nn.Sequential(\n",
    "            nn.Linear(input_size,512),\n",
    "            nn.BatchNorm1d(512),\n",
    "            nn.Dropout(0.3),\n",
    "            nn.LeakyReLU()\n",
    "        )\n",
    "        self.layer2 = nn.Linear(512,output_size)\n",
    "    \n",
    "    def forward(self, x):\n",
    "        x = self.layer1(x)\n",
    "        return self.layer2(x)"
   ]
  },
  {
   "cell_type": "code",
   "execution_count": 19,
   "id": "4d6d3bd3",
   "metadata": {},
   "outputs": [],
   "source": [
    "def load_pickled_data(path):\n",
    "    with open(path, 'rb') as fp:\n",
    "        data = pickle.load(fp)\n",
    "    return data"
   ]
  },
  {
   "cell_type": "code",
   "execution_count": 22,
   "id": "1e9b3039",
   "metadata": {},
   "outputs": [],
   "source": [
    "img_text_features_train_LABELLED = load_pickled_data('/common/home/gg676/535/data/labelled_data/embeddings_train1_LABELLED.pkl')\n",
    "features_val = load_pickled_data('/common/home/gg676/Downloads/embeddings_val1.pkl')\n",
    "features_test = load_pickled_data('/common/home/gg676/Downloads/embeddings_test1.pkl')\n",
    "\n",
    "img_val = features_val[0]\n",
    "text_val = features_val[1]\n",
    "\n",
    "img_test = features_test[0]\n",
    "text_test = features_test[1]\n",
    "\n",
    "dataset = FeatureDataset(img_text_features_train_LABELLED)\n",
    "train_loader = DataLoader(dataset, batch_size=64, shuffle=True, num_workers=60)"
   ]
  },
  {
   "cell_type": "code",
   "execution_count": 7,
   "id": "b0e0bc81",
   "metadata": {},
   "outputs": [],
   "source": [
    "def rank(txt_data, img_data):\n",
    "    results_dict = {}\n",
    "    projection_txt, projection_img = txt_data, img_data\n",
    "    med_dict = {}\n",
    "    idxs = range(1000)\n",
    "    \n",
    "    glob_rank = []\n",
    "    glob_recall = {1:0.0,5:0.0,10:0.0}\n",
    "    \n",
    "    for i in range(10):\n",
    "        ids = random.sample(range(0,txt_data.shape[0]-1), 1000)\n",
    "        \n",
    "        txt_sample = projection_txt[ids,:]\n",
    "        img_sample = projection_img[ids,:]\n",
    "        \n",
    "        similarity = np.dot(txt_sample.cpu().numpy(), img_sample.T.cpu().numpy())\n",
    "\n",
    "        med_rank = []\n",
    "        \n",
    "        recall = {1:0.0,5:0.0,10:0.0}\n",
    "        \n",
    "        for ii in idxs:\n",
    "            # get a column of similarities\n",
    "            sim = similarity[ii,:]\n",
    "            # sort indices in descending order\n",
    "            sorting = np.argsort(sim)[::-1].tolist()\n",
    "            # find where the index of the pair sample ended up in the sorting\n",
    "            pos = sorting.index(ii)  \n",
    "            if (pos+1) == 1:\n",
    "                recall[1]+=1\n",
    "            if (pos+1) <=5:\n",
    "                recall[5]+=1\n",
    "            if (pos+1)<=10:\n",
    "                recall[10]+=1\n",
    "            # store the position\n",
    "            med_rank.append(pos+1)\n",
    "        for i in recall.keys():\n",
    "            recall[i]=recall[i]/1000\n",
    "        med = np.median(med_rank)\n",
    "        for i in recall.keys():\n",
    "            glob_recall[i]+=recall[i]\n",
    "        glob_rank.append(med)\n",
    "\n",
    "    for i in glob_recall.keys():\n",
    "        glob_recall[i] = glob_recall[i]/10\n",
    "    \n",
    "    med_dict[\"mean_median\"] = np.average(glob_rank)\n",
    "    med_dict[\"recall\"] = glob_recall\n",
    "    med_dict[\"median_all\"] = glob_rank\n",
    "    print(\"Result:\",med_dict)\n",
    "    return med_dict"
   ]
  },
  {
   "cell_type": "code",
   "execution_count": 8,
   "id": "afd02611",
   "metadata": {},
   "outputs": [],
   "source": [
    "model_img = Encoder(512)\n",
    "model_text = Encoder(512)\n",
    "optimizer = optim.Adam(list(model_text.parameters()) + list(model_img.parameters()) , lr=1e-6)\n",
    "scheduler = torch.optim.lr_scheduler.ReduceLROnPlateau(optimizer, mode='max', patience=2, verbose=True)\n",
    "loss = nn.TripletMarginWithDistanceLoss(distance_function=lambda x, y: 1.0 - F.cosine_similarity(x, y))"
   ]
  },
  {
   "cell_type": "code",
   "execution_count": 9,
   "id": "b9aa0afa",
   "metadata": {},
   "outputs": [],
   "source": [
    "def get_hard_negative(anchor,positive,label):\n",
    "    labels_equal = torch.eq(label.unsqueeze(0),label.unsqueeze(1))\n",
    "    mask_neg = torch.logical_not(labels_equal)\n",
    "    distance_matrix = torch.matmul(anchor, positive.T)\n",
    "    anchor_negative_dist = mask_neg * distance_matrix\n",
    "    hard_negative_idx = torch.argmax(anchor_negative_dist, dim=1)\n",
    "    hard_negative = torch.index_select(positive, 0, hard_negative_idx)\n",
    "    \n",
    "    return hard_negative"
   ]
  },
  {
   "cell_type": "code",
   "execution_count": 10,
   "id": "61851231",
   "metadata": {},
   "outputs": [],
   "source": [
    "from tqdm import tqdm\n",
    "def train(train_loader, img_model, txt_model, loss, optimizer): \n",
    "    total_loss = 0.0       \n",
    "    for i, (img_input_batch, text_input_batch,label) in tqdm(enumerate(train_loader)):\n",
    "        img_input_batch = img_input_batch.to(device)\n",
    "        text_input_batch = text_input_batch.to(device)\n",
    "        label = label.to(device)\n",
    "        hard_negative_emb = get_hard_negative(img_input_batch,text_input_batch,label)\n",
    "        optimizer.zero_grad()\n",
    "        anchor = img_model(img_input_batch.to(device)) \n",
    "        positive = txt_model(text_input_batch.to(device))\n",
    "        negative = txt_model(hard_negative_emb.to(device))\n",
    "        curr_loss = loss(anchor,positive,negative) \n",
    "        curr_loss.backward()\n",
    "        optimizer.step()\n",
    "        total_loss += curr_loss.item()\n",
    "    return total_loss/i"
   ]
  },
  {
   "cell_type": "code",
   "execution_count": 11,
   "id": "d4f1d6d8",
   "metadata": {},
   "outputs": [],
   "source": [
    "def save_model(model, file_name):\n",
    "    torch.save(model, '/common/home/gg676/535/saved_models/'+file_name)"
   ]
  },
  {
   "cell_type": "code",
   "execution_count": 12,
   "id": "cfa8f4b2",
   "metadata": {},
   "outputs": [],
   "source": [
    "def load_model(file_name):\n",
    "    model = torch.load('/common/home/gg676/535/saved_models/'+file_name)\n",
    "    return model"
   ]
  },
  {
   "cell_type": "code",
   "execution_count": 13,
   "id": "50ee6497",
   "metadata": {},
   "outputs": [
    {
     "name": "stderr",
     "output_type": "stream",
     "text": [
      "4400it [00:44, 99.33it/s] \n"
     ]
    },
    {
     "name": "stdout",
     "output_type": "stream",
     "text": [
      "Result: {'mean_median': 7.3, 'recall': {1: 0.2072, 5: 0.45, 10: 0.5612999999999999}, 'median_all': [6.0, 7.0, 7.5, 6.0, 9.0, 7.0, 8.5, 7.0, 8.0, 7.0]}\n",
      "Epoch 0 loss: 0.9752261804894822\n"
     ]
    },
    {
     "name": "stderr",
     "output_type": "stream",
     "text": [
      "4400it [00:43, 101.56it/s]\n"
     ]
    },
    {
     "name": "stdout",
     "output_type": "stream",
     "text": [
      "Result: {'mean_median': 2.0, 'recall': {1: 0.45890000000000003, 5: 0.7373000000000001, 10: 0.8215999999999999}, 'median_all': [2.0, 2.0, 2.0, 2.0, 2.0, 2.0, 2.0, 2.0, 2.0, 2.0]}\n",
      "Epoch 1 loss: 0.8567092926915761\n"
     ]
    },
    {
     "name": "stderr",
     "output_type": "stream",
     "text": [
      "4400it [00:42, 102.75it/s]\n"
     ]
    },
    {
     "name": "stdout",
     "output_type": "stream",
     "text": [
      "Result: {'mean_median': 2.0, 'recall': {1: 0.4511, 5: 0.7352, 10: 0.8240999999999999}, 'median_all': [2.0, 2.0, 2.0, 2.0, 2.0, 2.0, 2.0, 2.0, 2.0, 2.0]}\n",
      "Epoch 2 loss: 0.7607392693248818\n"
     ]
    },
    {
     "name": "stderr",
     "output_type": "stream",
     "text": [
      "4400it [00:45, 96.83it/s] \n"
     ]
    },
    {
     "name": "stdout",
     "output_type": "stream",
     "text": [
      "Result: {'mean_median': 2.0, 'recall': {1: 0.4064, 5: 0.6943, 10: 0.7861}, 'median_all': [2.0, 2.0, 2.0, 2.0, 2.0, 2.0, 2.0, 2.0, 2.0, 2.0]}\n",
      "Epoch 3 loss: 0.7115090129781404\n"
     ]
    }
   ],
   "source": [
    "no_epochs = 4\n",
    "model_img = model_img.to(device)\n",
    "model_text = model_text.to(device)\n",
    "model_img.train()\n",
    "model_text.train()\n",
    "lowest_median_rank = 99.0\n",
    "for epoch in range(no_epochs):\n",
    "    train_loss = train(train_loader, model_img, model_text,loss,optimizer)\n",
    "    with torch.no_grad():\n",
    "        model_img.eval()\n",
    "        model_text.eval()\n",
    "        out_text, out_img = model_text(torch.tensor(text_val).to('cuda:1')), model_img(torch.tensor(img_val).to('cuda:1'))\n",
    "        med_rank = rank(out_text,out_img)\n",
    "        if med_rank['mean_median'] < lowest_median_rank:\n",
    "            lowest_median_rank = med_rank['mean_median']\n",
    "            save_model(model_text, 'text_model_triplet')\n",
    "            save_model(model_img, 'img_model_triplet')\n",
    "    scheduler.step(med_rank['recall'][1])\n",
    "    print('Epoch {} loss: {}'.format(epoch, train_loss))"
   ]
  },
  {
   "cell_type": "code",
   "execution_count": 14,
   "id": "98ca8305",
   "metadata": {},
   "outputs": [
    {
     "name": "stdout",
     "output_type": "stream",
     "text": [
      "Result: {'mean_median': 2.0, 'recall': {1: 0.45339999999999997, 5: 0.7399, 10: 0.8193999999999999}, 'median_all': [2.0, 2.0, 2.0, 2.0, 2.0, 2.0, 2.0, 2.0, 2.0, 2.0]}\n"
     ]
    },
    {
     "data": {
      "text/plain": [
       "{'mean_median': 2.0,\n",
       " 'recall': {1: 0.45339999999999997, 5: 0.7399, 10: 0.8193999999999999},\n",
       " 'median_all': [2.0, 2.0, 2.0, 2.0, 2.0, 2.0, 2.0, 2.0, 2.0, 2.0]}"
      ]
     },
     "execution_count": 14,
     "metadata": {},
     "output_type": "execute_result"
    }
   ],
   "source": [
    "txt_model = load_model('text_model_triplet')\n",
    "img_model = load_model('img_model_triplet')\n",
    "with torch.no_grad():\n",
    "    img_model.eval()\n",
    "    txt_model.eval()\n",
    "    r_text = txt_model(torch.tensor(text_test).to('cuda:1'))\n",
    "    r_img = img_model(torch.tensor(img_test).to('cuda:1'))\n",
    "    test_result = rank(r_text, r_img)\n",
    "test_result"
   ]
  },
  {
   "cell_type": "code",
   "execution_count": 16,
   "id": "41e0c701",
   "metadata": {},
   "outputs": [],
   "source": [
    "with open('/common/home/gg676/535/task_2/tsne_data/all_text_triplet.pkl', 'wb') as fp:\n",
    "    pickle.dump(r_text, fp)\n",
    "with open('/common/home/gg676/535/task_2/tsne_data/all_img_triplet.pkl', 'wb') as fp:\n",
    "    pickle.dump(r_img, fp)"
   ]
  },
  {
   "cell_type": "code",
   "execution_count": null,
   "id": "6940fc34",
   "metadata": {},
   "outputs": [],
   "source": []
  }
 ],
 "metadata": {
  "kernelspec": {
   "display_name": "Python 3",
   "language": "python",
   "name": "python3"
  },
  "language_info": {
   "codemirror_mode": {
    "name": "ipython",
    "version": 3
   },
   "file_extension": ".py",
   "mimetype": "text/x-python",
   "name": "python",
   "nbconvert_exporter": "python",
   "pygments_lexer": "ipython3",
   "version": "3.8.10"
  }
 },
 "nbformat": 4,
 "nbformat_minor": 5
}
