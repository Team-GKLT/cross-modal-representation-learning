{
 "cells": [
  {
   "cell_type": "code",
   "execution_count": 1,
   "id": "a7620846",
   "metadata": {},
   "outputs": [],
   "source": [
    "import os\n",
    "import pickle\n",
    "import torch\n",
    "from torch.utils.data import DataLoader\n",
    "import torch.nn as nn\n",
    "import torch.nn.functional as F\n",
    "import numpy as np\n",
    "import torch\n",
    "import random"
   ]
  },
  {
   "cell_type": "code",
   "execution_count": null,
   "id": "ea60e8aa",
   "metadata": {},
   "outputs": [],
   "source": []
  },
  {
   "cell_type": "code",
   "execution_count": 2,
   "id": "bcf5d891",
   "metadata": {},
   "outputs": [],
   "source": [
    "with open('/common/home/gg676/Downloads/embeddings_train1.pkl', 'rb') as f:\n",
    "    obj = f.read()\n",
    "    data = pickle.loads(obj, encoding='latin1')    \n",
    "with open('/common/home/gg676/Downloads/ingredients_embeddings_train.pkl', 'rb') as f:\n",
    "    obj = f.read()\n",
    "    only_txt = pickle.loads(obj, encoding='latin1')\n",
    "data[1] = only_txt[0]\n",
    "    \n",
    "\n",
    "    \n",
    "with open('/common/home/gg676/Downloads/embeddings_val1.pkl', 'rb') as f:\n",
    "    val_emb = pickle.load(f)\n",
    "val_img = val_emb[0]\n",
    "with open('/common/home/gg676/Downloads/ingredients_embeddings_val.pkl', 'rb') as f:\n",
    "    val_data = pickle.load(f)\n",
    "val_txt = val_data[0]\n",
    "\n",
    "\n",
    "\n",
    "\n",
    "\n",
    "with open('/common/home/gg676/Downloads/embeddings_test1.pkl', 'rb') as f:\n",
    "    test_emb = pickle.load(f)\n",
    "test_img = test_emb[0]\n",
    "with open('/common/home/gg676/Downloads/ingredients_embeddings_test.pkl', 'rb') as f:\n",
    "    test_data = pickle.load(f)\n",
    "test_txt = test_data[0]"
   ]
  },
  {
   "cell_type": "code",
   "execution_count": 3,
   "id": "5cb4b71d",
   "metadata": {},
   "outputs": [],
   "source": [
    "class FeatureDataset(torch.utils.data.Dataset):\n",
    "    def __init__(self, dataset):\n",
    "        self.dataset = dataset\n",
    "    \n",
    "    def __len__(self):\n",
    "        return self.dataset[0].shape[0]\n",
    "    \n",
    "    def __getitem__(self, idx):\n",
    "        text, img = self.dataset[1][idx], self.dataset[0][idx]\n",
    "        return text, img\n",
    "\n",
    "dataset = FeatureDataset(data)\n",
    "train_loader = DataLoader(dataset, batch_size=64, shuffle=False)"
   ]
  },
  {
   "cell_type": "code",
   "execution_count": 4,
   "id": "ed5ea82e",
   "metadata": {},
   "outputs": [],
   "source": [
    "class TextEncoder(nn.Module):\n",
    "    def __init__(self,output_size,input_size=1024):\n",
    "        super().__init__()\n",
    "        self.layers = nn.Sequential(\n",
    "            nn.Linear(input_size, 512),\n",
    "            nn.BatchNorm1d(512),\n",
    "            nn.Dropout(0.3),\n",
    "            nn.LeakyReLU()\n",
    "        )\n",
    "        self.output = nn.Linear(512, output_size)\n",
    "    \n",
    "    def forward(self, x):\n",
    "        x = self.layers(x)\n",
    "        return self.output(x)"
   ]
  },
  {
   "cell_type": "code",
   "execution_count": 5,
   "id": "0f98356e",
   "metadata": {},
   "outputs": [],
   "source": [
    "class ImgEncoder(nn.Module):\n",
    "    def __init__(self,output_size,input_size=1024):\n",
    "        super().__init__()\n",
    "        self.layers = nn.Sequential(\n",
    "            nn.Linear(input_size, 512),\n",
    "            nn.BatchNorm1d(512),\n",
    "            nn.Dropout(),\n",
    "            nn.LeakyReLU()\n",
    "        )\n",
    "        self.output = nn.Linear(512, output_size)\n",
    "    \n",
    "    def forward(self, x):\n",
    "        x = self.layers(x)\n",
    "        return self.output(x)"
   ]
  },
  {
   "cell_type": "code",
   "execution_count": null,
   "id": "9518bfe3",
   "metadata": {},
   "outputs": [],
   "source": []
  },
  {
   "cell_type": "code",
   "execution_count": 6,
   "id": "563ba9a5",
   "metadata": {},
   "outputs": [],
   "source": [
    "def rank(txt_data, img_data):\n",
    "    results_dict = {}\n",
    "    projection_txt, projection_img = txt_data, img_data\n",
    "    \n",
    "    idxs = range(1000)\n",
    "    \n",
    "    glob_rank = []\n",
    "    glob_recall = {1:0.0,5:0.0,10:0.0}\n",
    "    \n",
    "    for i in range(10):\n",
    "        ids = random.sample(range(0,txt_data.shape[0]-1), 1000)\n",
    "        \n",
    "        txt_sample = projection_txt[ids,:]\n",
    "        img_sample = projection_img[ids,:]\n",
    "        \n",
    "        similarity = np.dot(txt_sample.cpu().numpy(), img_sample.T.cpu().numpy())\n",
    "\n",
    "        med_rank = []\n",
    "        \n",
    "        recall = {1:0.0,5:0.0,10:0.0}\n",
    "        \n",
    "        for ii in idxs:\n",
    "            # get a column of similarities\n",
    "            sim = similarity[ii,:]\n",
    "            # sort indices in descending order\n",
    "            sorting = np.argsort(sim)[::-1].tolist()\n",
    "            # find where the index of the pair sample ended up in the sorting\n",
    "            pos = sorting.index(ii)  \n",
    "            if (pos+1) == 1:\n",
    "                recall[1]+=1\n",
    "            if (pos+1) <=5:\n",
    "                recall[5]+=1\n",
    "            if (pos+1)<=10:\n",
    "                recall[10]+=1\n",
    "            # store the position\n",
    "            med_rank.append(pos+1)\n",
    "        for i in recall.keys():\n",
    "            recall[i]=recall[i]/1000\n",
    "        med = np.median(med_rank)\n",
    "        for i in recall.keys():\n",
    "            glob_recall[i]+=recall[i]\n",
    "        glob_rank.append(med)\n",
    "\n",
    "    for i in glob_recall.keys():\n",
    "        glob_recall[i] = glob_recall[i]/10\n",
    "    med_dict = {}\n",
    "    med_dict[\"mean_median\"] = np.average(glob_rank)\n",
    "    med_dict[\"recall\"] = glob_recall\n",
    "    med_dict[\"median_all\"] = glob_rank\n",
    "#     print(\"Mean median\", np.average(glob_rank))\n",
    "#     print(\"Recall\", glob_recall)\n",
    "    print(\"Result:\",med_dict)\n",
    "    \n",
    "    return med_dict"
   ]
  },
  {
   "cell_type": "code",
   "execution_count": 7,
   "id": "c3a62bcf",
   "metadata": {},
   "outputs": [],
   "source": [
    "def save_model(model, file_name):\n",
    "    torch.save(model, '/common/home/gg676/535/saved_models/'+file_name)"
   ]
  },
  {
   "cell_type": "code",
   "execution_count": 8,
   "id": "d24af7c9",
   "metadata": {},
   "outputs": [],
   "source": [
    "def load_model(file_name):\n",
    "    model = torch.load('/common/home/gg676/535/saved_models/'+file_name)\n",
    "    return model"
   ]
  },
  {
   "cell_type": "code",
   "execution_count": 9,
   "id": "045769cf",
   "metadata": {},
   "outputs": [],
   "source": [
    "import time\n",
    "from tqdm import tqdm\n",
    "def train(train_loader, img_model, txt_model, criterion, optimizer_txt, optimizer_img, epoch):\n",
    "    img_model.train()\n",
    "    txt_model.train()   \n",
    "    running_loss = []\n",
    "    optimizer_txt.zero_grad()\n",
    "    optimizer_img.zero_grad()\n",
    "    \n",
    "    for i, (txt_emb,img_emb) in tqdm(enumerate(train_loader)):\n",
    "        \n",
    "        txt_emb = txt_emb.to('cuda:1')\n",
    "        img_emb = img_emb.to('cuda:1')\n",
    "        \n",
    "        optimizer_txt.zero_grad()\n",
    "        optimizer_img.zero_grad()\n",
    "        \n",
    "        out_txt_emb = txt_model(txt_emb)\n",
    "        out_img_emb = img_model(img_emb) \n",
    "        \n",
    "        loss = criterion(out_txt_emb, out_img_emb)\n",
    "               \n",
    "        loss.backward()\n",
    "        optimizer_txt.step()\n",
    "        optimizer_img.step()\n",
    "        \n",
    "        running_loss.append(loss.item())\n",
    "    return sum(running_loss)/len(running_loss)"
   ]
  },
  {
   "cell_type": "code",
   "execution_count": 10,
   "id": "b218023a",
   "metadata": {
    "scrolled": true
   },
   "outputs": [
    {
     "name": "stderr",
     "output_type": "stream",
     "text": [
      "4400it [00:25, 173.27it/s]\n"
     ]
    },
    {
     "name": "stdout",
     "output_type": "stream",
     "text": [
      "  Epoch 0 loss: 0.4053185410729863 \n",
      "\n",
      "Result: {'mean_median': 61.8, 'recall': {1: 0.045099999999999994, 5: 0.1385, 10: 0.20940000000000003}, 'median_all': [61.5, 61.0, 61.0, 64.0, 62.0, 61.5, 62.0, 60.0, 60.0, 65.0]}\n"
     ]
    },
    {
     "name": "stderr",
     "output_type": "stream",
     "text": [
      "4400it [00:22, 192.04it/s]\n"
     ]
    },
    {
     "name": "stdout",
     "output_type": "stream",
     "text": [
      "  Epoch 1 loss: 0.3077897673845291 \n",
      "\n",
      "Result: {'mean_median': 30.7, 'recall': {1: 0.07809999999999999, 5: 0.22230000000000003, 10: 0.31050000000000005}, 'median_all': [30.5, 30.0, 31.5, 28.0, 31.5, 33.0, 30.5, 30.0, 30.0, 32.0]}\n"
     ]
    },
    {
     "name": "stderr",
     "output_type": "stream",
     "text": [
      "4400it [00:21, 201.59it/s]\n"
     ]
    },
    {
     "name": "stdout",
     "output_type": "stream",
     "text": [
      "  Epoch 2 loss: 0.26038436016237193 \n",
      "\n",
      "Result: {'mean_median': 30.35, 'recall': {1: 0.0754, 5: 0.2129, 10: 0.3088}, 'median_all': [30.5, 31.0, 28.5, 31.0, 28.0, 32.0, 29.5, 29.0, 29.0, 35.0]}\n"
     ]
    },
    {
     "name": "stderr",
     "output_type": "stream",
     "text": [
      "4400it [00:23, 188.33it/s]\n"
     ]
    },
    {
     "name": "stdout",
     "output_type": "stream",
     "text": [
      "  Epoch 3 loss: 0.22650299374352803 \n",
      "\n",
      "Result: {'mean_median': 36.45, 'recall': {1: 0.0652, 5: 0.1959, 10: 0.2854}, 'median_all': [35.0, 34.0, 35.0, 37.5, 37.0, 43.0, 41.0, 34.0, 33.0, 35.0]}\n"
     ]
    },
    {
     "name": "stderr",
     "output_type": "stream",
     "text": [
      "4400it [00:21, 206.68it/s]\n"
     ]
    },
    {
     "name": "stdout",
     "output_type": "stream",
     "text": [
      "  Epoch 4 loss: 0.19878581437197598 \n",
      "\n",
      "Result: {'mean_median': 51.05, 'recall': {1: 0.055499999999999994, 5: 0.1623, 10: 0.23750000000000004}, 'median_all': [50.0, 57.0, 50.5, 55.0, 49.0, 54.0, 47.0, 47.0, 54.0, 47.0]}\n"
     ]
    },
    {
     "name": "stderr",
     "output_type": "stream",
     "text": [
      "4400it [00:21, 202.38it/s]\n"
     ]
    },
    {
     "name": "stdout",
     "output_type": "stream",
     "text": [
      "  Epoch 5 loss: 0.17476449509235945 \n",
      "\n",
      "Result: {'mean_median': 70.8, 'recall': {1: 0.041299999999999996, 5: 0.13069999999999998, 10: 0.19270000000000004}, 'median_all': [77.0, 75.0, 73.5, 62.0, 70.0, 72.0, 67.0, 74.0, 67.5, 70.0]}\n"
     ]
    },
    {
     "name": "stderr",
     "output_type": "stream",
     "text": [
      "4400it [00:19, 228.80it/s]\n"
     ]
    },
    {
     "name": "stdout",
     "output_type": "stream",
     "text": [
      "  Epoch 6 loss: 0.15335763737220656 \n",
      "\n",
      "Result: {'mean_median': 97.0, 'recall': {1: 0.030000000000000006, 5: 0.09999999999999999, 10: 0.1518}, 'median_all': [103.5, 99.0, 96.0, 102.5, 106.5, 94.0, 94.0, 95.0, 90.0, 89.5]}\n"
     ]
    },
    {
     "name": "stderr",
     "output_type": "stream",
     "text": [
      "4400it [00:20, 218.99it/s]\n"
     ]
    },
    {
     "name": "stdout",
     "output_type": "stream",
     "text": [
      "  Epoch 7 loss: 0.13418167308819565 \n",
      "\n",
      "Result: {'mean_median': 125.8, 'recall': {1: 0.0217, 5: 0.08119999999999998, 10: 0.1247}, 'median_all': [127.0, 116.5, 128.5, 129.5, 130.5, 123.5, 127.0, 139.0, 115.5, 121.0]}\n"
     ]
    },
    {
     "name": "stderr",
     "output_type": "stream",
     "text": [
      "4400it [00:19, 225.49it/s]\n"
     ]
    },
    {
     "name": "stdout",
     "output_type": "stream",
     "text": [
      "  Epoch 8 loss: 0.11688399741934104 \n",
      "\n",
      "Result: {'mean_median': 150.4, 'recall': {1: 0.019999999999999997, 5: 0.0658, 10: 0.10659999999999999}, 'median_all': [154.5, 154.5, 159.5, 150.5, 158.0, 149.0, 152.0, 136.0, 154.5, 135.5]}\n"
     ]
    },
    {
     "name": "stderr",
     "output_type": "stream",
     "text": [
      "4400it [00:20, 216.01it/s]\n"
     ]
    },
    {
     "name": "stdout",
     "output_type": "stream",
     "text": [
      "  Epoch 9 loss: 0.10145226512612267 \n",
      "\n",
      "Result: {'mean_median': 170.65, 'recall': {1: 0.0157, 5: 0.05600000000000001, 10: 0.08909999999999998}, 'median_all': [172.0, 171.0, 161.5, 173.5, 179.5, 156.5, 173.5, 159.0, 169.5, 190.5]}\n"
     ]
    },
    {
     "name": "stderr",
     "output_type": "stream",
     "text": [
      "4400it [00:22, 198.60it/s]\n"
     ]
    },
    {
     "name": "stdout",
     "output_type": "stream",
     "text": [
      "  Epoch 10 loss: 0.0877266572212631 \n",
      "\n",
      "Result: {'mean_median': 190.55, 'recall': {1: 0.016400000000000005, 5: 0.05179999999999999, 10: 0.0842}, 'median_all': [177.5, 189.5, 206.5, 187.5, 205.5, 197.0, 195.0, 184.0, 184.0, 179.0]}\n"
     ]
    },
    {
     "name": "stderr",
     "output_type": "stream",
     "text": [
      "4400it [00:22, 197.42it/s]\n"
     ]
    },
    {
     "name": "stdout",
     "output_type": "stream",
     "text": [
      "  Epoch 11 loss: 0.07559911211952568 \n",
      "\n",
      "Result: {'mean_median': 201.7, 'recall': {1: 0.014100000000000001, 5: 0.048299999999999996, 10: 0.0794}, 'median_all': [219.0, 205.0, 195.5, 200.5, 199.5, 189.0, 207.0, 194.0, 214.0, 193.5]}\n"
     ]
    },
    {
     "name": "stderr",
     "output_type": "stream",
     "text": [
      "4400it [00:23, 184.00it/s]\n"
     ]
    },
    {
     "name": "stdout",
     "output_type": "stream",
     "text": [
      "  Epoch 12 loss: 0.06490885891443626 \n",
      "\n",
      "Result: {'mean_median': 202.85, 'recall': {1: 0.0131, 5: 0.0455, 10: 0.07669999999999999}, 'median_all': [194.5, 205.0, 197.5, 207.5, 203.0, 200.0, 198.5, 211.0, 202.0, 209.5]}\n"
     ]
    },
    {
     "name": "stderr",
     "output_type": "stream",
     "text": [
      "4400it [00:24, 179.26it/s]\n"
     ]
    },
    {
     "name": "stdout",
     "output_type": "stream",
     "text": [
      "  Epoch 13 loss: 0.05556344847025519 \n",
      "\n",
      "Result: {'mean_median': 213.0, 'recall': {1: 0.013800000000000002, 5: 0.048799999999999996, 10: 0.07719999999999999}, 'median_all': [212.0, 224.0, 221.0, 216.5, 195.5, 214.5, 216.0, 205.0, 224.0, 201.5]}\n"
     ]
    },
    {
     "name": "stderr",
     "output_type": "stream",
     "text": [
      "4400it [00:22, 193.26it/s]\n"
     ]
    },
    {
     "name": "stdout",
     "output_type": "stream",
     "text": [
      "  Epoch 14 loss: 0.04739933844994415 \n",
      "\n",
      "Result: {'mean_median': 217.15, 'recall': {1: 0.014900000000000002, 5: 0.04699999999999999, 10: 0.07209999999999998}, 'median_all': [218.0, 218.5, 195.5, 218.5, 210.5, 218.0, 236.5, 225.5, 211.0, 219.5]}\n"
     ]
    }
   ],
   "source": [
    "no_epochs = 15\n",
    "img_model = ImgEncoder(512).to('cuda:1')\n",
    "txt_model = TextEncoder(512).to('cuda:1')\n",
    "lowest_median_rank = 99.0\n",
    "optimizer_txt = torch.optim.Adam(txt_model.parameters(), lr=1e-6, weight_decay=1e-7)\n",
    "optimizer_img = torch.optim.Adam(img_model.parameters(), lr=1e-6, weight_decay=1e-7)\n",
    "criterion = nn.MSELoss() \n",
    "for epoch in range(no_epochs):\n",
    "    img_model.train()\n",
    "    txt_model.train()\n",
    "    train_loss = train(train_loader, img_model, txt_model, criterion, optimizer_txt, optimizer_img, epoch)\n",
    "    print('  Epoch {} loss: {} {}'.format(epoch, train_loss, \"\\n\"))\n",
    "    with torch.no_grad():\n",
    "        txt_model.eval()\n",
    "        img_model.eval()\n",
    "        out_text, out_img = txt_model(torch.tensor(val_txt).to('cuda:1')), img_model(torch.tensor(val_img).to('cuda:1'))\n",
    "        med_rank = rank(out_text,out_img)\n",
    "        if med_rank['mean_median'] < lowest_median_rank:\n",
    "            lowest_median_rank = med_rank['mean_median']\n",
    "            save_model(txt_model, 'text_INGREDIENTS_model_mse')\n",
    "            save_model(img_model, 'img_INGREDIENTS_model_mse')"
   ]
  },
  {
   "cell_type": "code",
   "execution_count": 14,
   "id": "83a67593",
   "metadata": {},
   "outputs": [
    {
     "name": "stdout",
     "output_type": "stream",
     "text": [
      "Result: {'mean_median': 31.7, 'recall': {1: 0.075, 5: 0.21280000000000002, 10: 0.3101}, 'median_all': [32.0, 35.0, 33.0, 31.0, 34.0, 32.0, 28.0, 30.0, 31.0, 31.0]}\n"
     ]
    },
    {
     "data": {
      "text/plain": [
       "{'mean_median': 31.7,\n",
       " 'recall': {1: 0.075, 5: 0.21280000000000002, 10: 0.3101},\n",
       " 'median_all': [32.0, 35.0, 33.0, 31.0, 34.0, 32.0, 28.0, 30.0, 31.0, 31.0]}"
      ]
     },
     "execution_count": 14,
     "metadata": {},
     "output_type": "execute_result"
    }
   ],
   "source": [
    "txt_model = load_model('text_INGREDIENTS_model_mse')\n",
    "img_model = load_model('img_INGREDIENTS_model_mse')\n",
    "with torch.no_grad():\n",
    "    img_model.eval()\n",
    "    txt_model.eval()\n",
    "    test_result = rank(txt_model(torch.tensor(test_txt).to('cuda:1')), img_model(torch.tensor(test_img).to('cuda:1')))\n",
    "test_result"
   ]
  },
  {
   "cell_type": "code",
   "execution_count": 15,
   "id": "fa8cc448",
   "metadata": {},
   "outputs": [],
   "source": [
    "out_text_test, out_img_test = txt_model(torch.tensor(test_txt).to('cuda:1')), img_model(torch.tensor(test_img).to('cuda:1'))"
   ]
  },
  {
   "cell_type": "code",
   "execution_count": 16,
   "id": "4985ae37",
   "metadata": {},
   "outputs": [],
   "source": [
    "with open('/common/home/gg676/535/task_2/tsne_data/ingredients_text.pkl', 'wb') as fp:\n",
    "    pickle.dump(out_text_test, fp)\n",
    "with open('/common/home/gg676/535/task_2/tsne_data/ingredients_img.pkl', 'wb') as fp:\n",
    "    pickle.dump(out_img_test, fp)"
   ]
  },
  {
   "cell_type": "code",
   "execution_count": null,
   "id": "04b2a144",
   "metadata": {},
   "outputs": [],
   "source": []
  }
 ],
 "metadata": {
  "kernelspec": {
   "display_name": "Python 3",
   "language": "python",
   "name": "python3"
  },
  "language_info": {
   "codemirror_mode": {
    "name": "ipython",
    "version": 3
   },
   "file_extension": ".py",
   "mimetype": "text/x-python",
   "name": "python",
   "nbconvert_exporter": "python",
   "pygments_lexer": "ipython3",
   "version": "3.8.10"
  }
 },
 "nbformat": 4,
 "nbformat_minor": 5
}
