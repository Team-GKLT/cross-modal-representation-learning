{
 "cells": [
  {
   "cell_type": "code",
   "execution_count": 1,
   "id": "a7620846",
   "metadata": {},
   "outputs": [],
   "source": [
    "import os\n",
    "import pickle\n",
    "import torch\n",
    "from torch.utils.data import DataLoader\n",
    "import torch.nn as nn\n",
    "import torch.nn.functional as F\n",
    "import numpy as np\n",
    "import torch\n",
    "import random"
   ]
  },
  {
   "cell_type": "code",
   "execution_count": null,
   "id": "ea60e8aa",
   "metadata": {},
   "outputs": [],
   "source": []
  },
  {
   "cell_type": "code",
   "execution_count": 2,
   "id": "bcf5d891",
   "metadata": {},
   "outputs": [],
   "source": [
    "with open('/common/home/gg676/Downloads/embeddings_train1.pkl', 'rb') as f:\n",
    "    obj = f.read()\n",
    "    data = pickle.loads(obj, encoding='latin1')    \n",
    "with open('/common/home/gg676/Downloads/title_embeddings_train.pkl', 'rb') as f:\n",
    "    obj = f.read()\n",
    "    only_txt = pickle.loads(obj, encoding='latin1')\n",
    "data[1] = only_txt[0]\n",
    "        \n",
    "with open('/common/home/gg676/Downloads/embeddings_val1.pkl', 'rb') as f:\n",
    "    val_emb = pickle.load(f)\n",
    "val_img = val_emb[0]\n",
    "with open('/common/home/gg676/Downloads/title_embeddings_val.pkl', 'rb') as f:\n",
    "    val_data = pickle.load(f)\n",
    "val_txt = val_data[0]\n",
    "\n",
    "with open('/common/home/gg676/Downloads/embeddings_test1.pkl', 'rb') as f:\n",
    "    test_emb = pickle.load(f)\n",
    "test_img = test_emb[0]\n",
    "with open('/common/home/gg676/Downloads/title_embeddings_test.pkl', 'rb') as f:\n",
    "    test_data = pickle.load(f)\n",
    "test_txt = test_data[0]"
   ]
  },
  {
   "cell_type": "code",
   "execution_count": 3,
   "id": "5cb4b71d",
   "metadata": {},
   "outputs": [],
   "source": [
    "class FeatureDataset(torch.utils.data.Dataset):\n",
    "    def __init__(self, dataset):\n",
    "        self.dataset = dataset\n",
    "    \n",
    "    def __len__(self):\n",
    "        return self.dataset[0].shape[0]\n",
    "    \n",
    "    def __getitem__(self, idx):\n",
    "        text, img = self.dataset[1][idx], self.dataset[0][idx]\n",
    "        return text, img\n",
    "\n",
    "dataset = FeatureDataset(data)\n",
    "train_loader = DataLoader(dataset, batch_size=64, shuffle=False)"
   ]
  },
  {
   "cell_type": "code",
   "execution_count": 4,
   "id": "ed5ea82e",
   "metadata": {},
   "outputs": [],
   "source": [
    "import torch\n",
    "import torch.nn as nn\n",
    "import torch.nn.functional as F\n",
    "class TextEncoder(nn.Module):\n",
    "    def __init__(self,output_size,input_size=1024):\n",
    "        super().__init__()\n",
    "        self.layers = nn.Sequential(\n",
    "            nn.Linear(input_size, 512),\n",
    "            nn.BatchNorm1d(512),\n",
    "            nn.Dropout(0.3),\n",
    "            nn.LeakyReLU()\n",
    "        )\n",
    "        self.output = nn.Linear(512, output_size)\n",
    "    \n",
    "    def forward(self, x):\n",
    "        x = self.layers(x)\n",
    "        return self.output(x)"
   ]
  },
  {
   "cell_type": "code",
   "execution_count": 5,
   "id": "0f98356e",
   "metadata": {},
   "outputs": [],
   "source": [
    "class ImgEncoder(nn.Module):\n",
    "    def __init__(self,output_size,input_size=1024):\n",
    "        super().__init__()\n",
    "        self.layers = nn.Sequential(\n",
    "            nn.Linear(input_size, 512),\n",
    "            nn.BatchNorm1d(512),\n",
    "            nn.Dropout(),\n",
    "            nn.LeakyReLU()\n",
    "        )\n",
    "        self.output = nn.Linear(512, output_size)\n",
    "    \n",
    "    def forward(self, x):\n",
    "        x = self.layers(x)\n",
    "        return self.output(x)"
   ]
  },
  {
   "cell_type": "code",
   "execution_count": 6,
   "id": "563ba9a5",
   "metadata": {},
   "outputs": [],
   "source": [
    "def rank(txt_data, img_data):\n",
    "    results_dict = {}\n",
    "    projection_txt, projection_img = txt_data, img_data\n",
    "    \n",
    "    idxs = range(1000)\n",
    "    \n",
    "    glob_rank = []\n",
    "    glob_recall = {1:0.0,5:0.0,10:0.0}\n",
    "    \n",
    "    for i in range(10):\n",
    "        ids = random.sample(range(0,txt_data.shape[0]-1), 1000)\n",
    "        \n",
    "        txt_sample = projection_txt[ids,:]\n",
    "        img_sample = projection_img[ids,:]\n",
    "        \n",
    "        similarity = np.dot(txt_sample.cpu().numpy(), img_sample.T.cpu().numpy())\n",
    "\n",
    "        med_rank = []\n",
    "        \n",
    "        recall = {1:0.0,5:0.0,10:0.0}\n",
    "        \n",
    "        for ii in idxs:\n",
    "            # get a column of similarities\n",
    "            sim = similarity[ii,:]\n",
    "            # sort indices in descending order\n",
    "            sorting = np.argsort(sim)[::-1].tolist()\n",
    "            # find where the index of the pair sample ended up in the sorting\n",
    "            pos = sorting.index(ii)  \n",
    "            if (pos+1) == 1:\n",
    "                recall[1]+=1\n",
    "            if (pos+1) <=5:\n",
    "                recall[5]+=1\n",
    "            if (pos+1)<=10:\n",
    "                recall[10]+=1\n",
    "            # store the position\n",
    "            med_rank.append(pos+1)\n",
    "        for i in recall.keys():\n",
    "            recall[i]=recall[i]/1000\n",
    "        med = np.median(med_rank)\n",
    "        for i in recall.keys():\n",
    "            glob_recall[i]+=recall[i]\n",
    "        glob_rank.append(med)\n",
    "\n",
    "    for i in glob_recall.keys():\n",
    "        glob_recall[i] = glob_recall[i]/10\n",
    "    med_dict = {}\n",
    "    med_dict[\"mean_median\"] = np.average(glob_rank)\n",
    "    med_dict[\"recall\"] = glob_recall\n",
    "    med_dict[\"median_all\"] = glob_rank\n",
    "    print(\"Result:\",med_dict)   \n",
    "    return med_dict"
   ]
  },
  {
   "cell_type": "code",
   "execution_count": 7,
   "id": "045769cf",
   "metadata": {},
   "outputs": [],
   "source": [
    "import time\n",
    "from tqdm import tqdm\n",
    "def train(train_loader, img_model, txt_model, criterion, optimizer_txt, optimizer_img, epoch):\n",
    "    img_model.train()\n",
    "    txt_model.train()   \n",
    "    running_loss = []\n",
    "    optimizer_txt.zero_grad()\n",
    "    optimizer_img.zero_grad()\n",
    "    \n",
    "    for i, (txt_emb,img_emb) in tqdm(enumerate(train_loader)):\n",
    "        \n",
    "        txt_emb = txt_emb.to('cuda:1')\n",
    "        img_emb = img_emb.to('cuda:1')\n",
    "        \n",
    "        optimizer_txt.zero_grad()\n",
    "        optimizer_img.zero_grad()\n",
    "        \n",
    "        out_txt_emb = txt_model(txt_emb)\n",
    "        out_img_emb = img_model(img_emb) \n",
    "        \n",
    "        loss = criterion(out_txt_emb, out_img_emb)\n",
    "        \n",
    "        loss.backward()\n",
    "        optimizer_txt.step()\n",
    "        optimizer_img.step()\n",
    "        \n",
    "        running_loss.append(loss.item())\n",
    "    return sum(running_loss)/len(running_loss)"
   ]
  },
  {
   "cell_type": "code",
   "execution_count": 8,
   "id": "3888f959",
   "metadata": {},
   "outputs": [],
   "source": [
    "def load_model(file_name):\n",
    "    model = torch.load('/common/home/gg676/535/saved_models/'+file_name)\n",
    "    return model"
   ]
  },
  {
   "cell_type": "code",
   "execution_count": 9,
   "id": "c7f8c8d1",
   "metadata": {},
   "outputs": [],
   "source": [
    "def save_model(model, file_name):\n",
    "    torch.save(model, '/common/home/gg676/535/saved_models/'+file_name)"
   ]
  },
  {
   "cell_type": "code",
   "execution_count": 10,
   "id": "b218023a",
   "metadata": {
    "scrolled": true
   },
   "outputs": [
    {
     "name": "stderr",
     "output_type": "stream",
     "text": [
      "4400it [00:22, 198.60it/s]\n"
     ]
    },
    {
     "name": "stdout",
     "output_type": "stream",
     "text": [
      "Epoch 0 loss: 0.4090594600479711 \n",
      "\n",
      "Result: {'mean_median': 174.6, 'recall': {1: 0.0158, 5: 0.0529, 10: 0.08829999999999998}, 'median_all': [173.5, 181.0, 181.0, 176.5, 185.0, 170.0, 172.5, 165.0, 166.0, 175.5]}\n"
     ]
    },
    {
     "name": "stderr",
     "output_type": "stream",
     "text": [
      "4400it [00:15, 276.28it/s]\n"
     ]
    },
    {
     "name": "stdout",
     "output_type": "stream",
     "text": [
      "Epoch 1 loss: 0.3159580859135498 \n",
      "\n",
      "Result: {'mean_median': 101.2, 'recall': {1: 0.0308, 5: 0.10400000000000001, 10: 0.15829999999999997}, 'median_all': [96.0, 108.0, 92.5, 94.5, 98.0, 94.0, 108.5, 103.5, 112.0, 105.0]}\n"
     ]
    },
    {
     "name": "stderr",
     "output_type": "stream",
     "text": [
      "4400it [00:15, 280.12it/s]\n"
     ]
    },
    {
     "name": "stdout",
     "output_type": "stream",
     "text": [
      "Epoch 2 loss: 0.26683003372428094 \n",
      "\n",
      "Result: {'mean_median': 95.45, 'recall': {1: 0.034600000000000006, 5: 0.10969999999999999, 10: 0.1644}, 'median_all': [96.0, 93.5, 90.0, 98.0, 96.0, 96.0, 96.5, 95.5, 100.0, 93.0]}\n"
     ]
    },
    {
     "name": "stderr",
     "output_type": "stream",
     "text": [
      "4400it [00:16, 266.60it/s]\n"
     ]
    },
    {
     "name": "stdout",
     "output_type": "stream",
     "text": [
      "Epoch 3 loss: 0.23176537082953885 \n",
      "\n",
      "Result: {'mean_median': 115.55, 'recall': {1: 0.029300000000000003, 5: 0.09679999999999998, 10: 0.1466}, 'median_all': [128.5, 115.5, 131.5, 124.5, 101.0, 113.0, 121.0, 117.0, 98.0, 105.5]}\n"
     ]
    },
    {
     "name": "stderr",
     "output_type": "stream",
     "text": [
      "4400it [00:15, 276.15it/s]\n"
     ]
    },
    {
     "name": "stdout",
     "output_type": "stream",
     "text": [
      "Epoch 4 loss: 0.20357283630493012 \n",
      "\n",
      "Result: {'mean_median': 137.25, 'recall': {1: 0.0256, 5: 0.08209999999999998, 10: 0.1272}, 'median_all': [138.0, 130.5, 139.0, 141.5, 120.0, 138.0, 135.0, 153.0, 147.0, 130.5]}\n"
     ]
    },
    {
     "name": "stderr",
     "output_type": "stream",
     "text": [
      "4400it [00:15, 279.05it/s]\n"
     ]
    },
    {
     "name": "stdout",
     "output_type": "stream",
     "text": [
      "Epoch 5 loss: 0.1795284356515516 \n",
      "\n",
      "Result: {'mean_median': 171.5, 'recall': {1: 0.020199999999999996, 5: 0.06720000000000001, 10: 0.1062}, 'median_all': [169.0, 161.5, 175.0, 183.5, 175.0, 170.5, 163.0, 181.0, 162.0, 174.5]}\n"
     ]
    },
    {
     "name": "stderr",
     "output_type": "stream",
     "text": [
      "4400it [00:15, 282.06it/s]\n"
     ]
    },
    {
     "name": "stdout",
     "output_type": "stream",
     "text": [
      "Epoch 6 loss: 0.15833782666108825 \n",
      "\n",
      "Result: {'mean_median': 205.5, 'recall': {1: 0.015199999999999997, 5: 0.053000000000000005, 10: 0.08579999999999999}, 'median_all': [220.0, 183.0, 206.0, 214.0, 199.0, 209.0, 203.5, 204.0, 196.0, 220.5]}\n"
     ]
    },
    {
     "name": "stderr",
     "output_type": "stream",
     "text": [
      "4400it [00:15, 278.52it/s]\n"
     ]
    },
    {
     "name": "stdout",
     "output_type": "stream",
     "text": [
      "Epoch 7 loss: 0.13942369107834318 \n",
      "\n",
      "Result: {'mean_median': 225.35, 'recall': {1: 0.013800000000000002, 5: 0.044599999999999994, 10: 0.07109999999999998}, 'median_all': [225.5, 231.0, 242.0, 234.0, 222.0, 225.0, 222.5, 224.5, 212.0, 215.0]}\n"
     ]
    },
    {
     "name": "stderr",
     "output_type": "stream",
     "text": [
      "4400it [00:15, 281.65it/s]\n"
     ]
    },
    {
     "name": "stdout",
     "output_type": "stream",
     "text": [
      "Epoch 8 loss: 0.12252715356309306 \n",
      "\n",
      "Result: {'mean_median': 249.5, 'recall': {1: 0.0096, 5: 0.0377, 10: 0.06039999999999999}, 'median_all': [253.5, 260.0, 233.0, 227.0, 258.5, 257.0, 237.0, 254.5, 267.0, 247.5]}\n"
     ]
    },
    {
     "name": "stderr",
     "output_type": "stream",
     "text": [
      "4400it [00:15, 285.28it/s]\n"
     ]
    },
    {
     "name": "stdout",
     "output_type": "stream",
     "text": [
      "Epoch 9 loss: 0.10732662891799753 \n",
      "\n",
      "Result: {'mean_median': 261.35, 'recall': {1: 0.007700000000000001, 5: 0.0341, 10: 0.057300000000000004}, 'median_all': [255.0, 266.0, 245.5, 251.5, 298.5, 264.0, 264.0, 262.5, 252.5, 254.0]}\n"
     ]
    }
   ],
   "source": [
    "no_epochs = 10\n",
    "img_model = ImgEncoder(512).to('cuda:1')\n",
    "txt_model = TextEncoder(512).to('cuda:1')\n",
    "lowest_median_rank = 990.0\n",
    "optimizer_txt = torch.optim.Adam(txt_model.parameters(), lr=1e-6, weight_decay=1e-7)\n",
    "optimizer_img = torch.optim.Adam(img_model.parameters(), lr=1e-6, weight_decay=1e-7)\n",
    "criterion = nn.MSELoss() \n",
    "for epoch in range(no_epochs):\n",
    "    img_model.train()\n",
    "    txt_model.train()\n",
    "    train_loss = train(train_loader, img_model, txt_model, criterion, optimizer_txt, optimizer_img, epoch)\n",
    "    print('Epoch {} loss: {} {}'.format(epoch, train_loss, \"\\n\"))\n",
    "    with torch.no_grad():\n",
    "        txt_model.eval()\n",
    "        img_model.eval()\n",
    "        out_text, out_img = txt_model(torch.tensor(val_txt).to('cuda:1')), img_model(torch.tensor(val_img).to('cuda:1'))\n",
    "        med_rank = rank(out_text,out_img)\n",
    "        if med_rank['mean_median'] < lowest_median_rank:\n",
    "            lowest_median_rank = med_rank['mean_median']\n",
    "            save_model(txt_model, 'text_TITLE_model_mse')\n",
    "            save_model(img_model, 'img_TITLE_model_mse')"
   ]
  },
  {
   "cell_type": "code",
   "execution_count": 14,
   "id": "83a67593",
   "metadata": {},
   "outputs": [
    {
     "name": "stdout",
     "output_type": "stream",
     "text": [
      "Result: {'mean_median': 102.75, 'recall': {1: 0.03270000000000001, 5: 0.11439999999999999, 10: 0.16860000000000003}, 'median_all': [110.0, 95.5, 107.0, 116.0, 98.0, 101.0, 109.0, 93.0, 95.0, 103.0]}\n"
     ]
    },
    {
     "data": {
      "text/plain": [
       "{'mean_median': 102.75,\n",
       " 'recall': {1: 0.03270000000000001,\n",
       "  5: 0.11439999999999999,\n",
       "  10: 0.16860000000000003},\n",
       " 'median_all': [110.0,\n",
       "  95.5,\n",
       "  107.0,\n",
       "  116.0,\n",
       "  98.0,\n",
       "  101.0,\n",
       "  109.0,\n",
       "  93.0,\n",
       "  95.0,\n",
       "  103.0]}"
      ]
     },
     "execution_count": 14,
     "metadata": {},
     "output_type": "execute_result"
    }
   ],
   "source": [
    "txt_model = load_model('text_TITLE_model_mse')\n",
    "img_model = load_model('img_TITLE_model_mse')\n",
    "with torch.no_grad():\n",
    "    img_model.eval()\n",
    "    txt_model.eval()\n",
    "    r_text = txt_model(torch.tensor(test_txt).to('cuda:1'))\n",
    "    r_img = img_model(torch.tensor(test_img).to('cuda:1'))\n",
    "    test_result = rank(r_text, r_img)\n",
    "test_result"
   ]
  },
  {
   "cell_type": "code",
   "execution_count": 15,
   "id": "ead70ccc",
   "metadata": {},
   "outputs": [],
   "source": [
    "out_text_test, out_img_test = txt_model(torch.tensor(test_txt).to('cuda:1')), img_model(torch.tensor(test_img).to('cuda:1'))"
   ]
  },
  {
   "cell_type": "code",
   "execution_count": 16,
   "id": "04b2a144",
   "metadata": {},
   "outputs": [],
   "source": [
    "with open('/common/home/gg676/535/task_2/tsne_data/title_text.pkl', 'wb') as fp:\n",
    "    pickle.dump(out_text_test, fp)\n",
    "with open('/common/home/gg676/535/task_2/tsne_data/title_img.pkl', 'wb') as fp:\n",
    "    pickle.dump(out_img_test, fp)"
   ]
  },
  {
   "cell_type": "code",
   "execution_count": null,
   "id": "23bc5cfa",
   "metadata": {},
   "outputs": [],
   "source": []
  }
 ],
 "metadata": {
  "kernelspec": {
   "display_name": "Python 3",
   "language": "python",
   "name": "python3"
  },
  "language_info": {
   "codemirror_mode": {
    "name": "ipython",
    "version": 3
   },
   "file_extension": ".py",
   "mimetype": "text/x-python",
   "name": "python",
   "nbconvert_exporter": "python",
   "pygments_lexer": "ipython3",
   "version": "3.8.10"
  }
 },
 "nbformat": 4,
 "nbformat_minor": 5
}
