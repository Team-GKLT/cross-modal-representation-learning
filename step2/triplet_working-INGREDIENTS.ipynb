{
 "cells": [
  {
   "cell_type": "code",
   "execution_count": 1,
   "id": "cdcd5e70",
   "metadata": {},
   "outputs": [],
   "source": [
    "import os\n",
    "import pickle\n",
    "import torch\n",
    "from torch.utils.data import DataLoader\n",
    "import torch.nn as nn\n",
    "import torch.nn.functional as F\n",
    "import torch.optim as optim\n",
    "import random\n",
    "import numpy as np"
   ]
  },
  {
   "cell_type": "code",
   "execution_count": 2,
   "id": "8fdb9ffb",
   "metadata": {},
   "outputs": [],
   "source": [
    "device = torch.device(\"cuda:3\")"
   ]
  },
  {
   "cell_type": "code",
   "execution_count": 3,
   "id": "5cb4b71d",
   "metadata": {},
   "outputs": [],
   "source": [
    "class FeatureDataset(torch.utils.data.Dataset):\n",
    "    def __init__(self, dataset):\n",
    "        self.dataset = dataset\n",
    "    \n",
    "    def __len__(self):\n",
    "        return len(self.dataset[0])\n",
    "    \n",
    "    def __getitem__(self, idx):\n",
    "        img, text, label = self.dataset[0][idx],self.dataset[4][idx],self.dataset[3][idx]\n",
    "        \n",
    "        return img, text, label"
   ]
  },
  {
   "cell_type": "code",
   "execution_count": 4,
   "id": "e8d2edb7",
   "metadata": {},
   "outputs": [],
   "source": [
    "\n",
    "class Encoder(nn.Module):\n",
    "    def __init__(self,output_size,input_size=1024):\n",
    "        super().__init__()\n",
    "\n",
    "        self.layer1 = nn.Sequential(\n",
    "            nn.Linear(input_size,512),\n",
    "            nn.BatchNorm1d(512),\n",
    "            nn.Dropout(0.3),\n",
    "            nn.LeakyReLU()\n",
    "        )\n",
    "        self.layer2 = nn.Linear(512,output_size)\n",
    "    \n",
    "    def forward(self, x):\n",
    "        x = self.layer1(x)\n",
    "        return self.layer2(x)"
   ]
  },
  {
   "cell_type": "code",
   "execution_count": 5,
   "id": "4d6d3bd3",
   "metadata": {},
   "outputs": [],
   "source": [
    "def load_pickled_data(path):\n",
    "    with open(path, 'rb') as fp:\n",
    "        data = pickle.load(fp)\n",
    "    return data"
   ]
  },
  {
   "cell_type": "code",
   "execution_count": 6,
   "id": "1e9b3039",
   "metadata": {},
   "outputs": [],
   "source": [
    "img_text_features_train_LABELLED = load_pickled_data('/common/home/gg676/535/data/labelled_data/TITLE_embeddings_train_LABELLED.pkl')\n",
    "features_val = load_pickled_data('/common/home/gg676/535/data/labelled_data/TITLE_embeddings_val_LABELLED.pkl')\n",
    "features_test = load_pickled_data('/common/home/gg676/535/data/labelled_data/TITLE_embeddings_test_LABELLED.pkl')\n",
    "\n",
    "img_val = features_val[0]\n",
    "text_val = features_val[4]\n",
    "\n",
    "img_test = features_test[0]\n",
    "text_test = features_test[4]\n"
   ]
  },
  {
   "cell_type": "code",
   "execution_count": 7,
   "id": "2ff269ae",
   "metadata": {},
   "outputs": [
    {
     "data": {
      "text/plain": [
       "5"
      ]
     },
     "execution_count": 7,
     "metadata": {},
     "output_type": "execute_result"
    }
   ],
   "source": [
    "len(img_text_features_train_LABELLED)"
   ]
  },
  {
   "cell_type": "code",
   "execution_count": 8,
   "id": "fe395170",
   "metadata": {},
   "outputs": [],
   "source": [
    "\n",
    "dataset = FeatureDataset(img_text_features_train_LABELLED)\n",
    "train_loader = DataLoader(dataset, batch_size=64, shuffle=True, num_workers=60)"
   ]
  },
  {
   "cell_type": "code",
   "execution_count": 9,
   "id": "b0e0bc81",
   "metadata": {},
   "outputs": [],
   "source": [
    "def rank(txt_data, img_data):\n",
    "    results_dict = {}\n",
    "    projection_txt, projection_img = txt_data, img_data\n",
    "    med_dict = {}\n",
    "    idxs = range(1000)\n",
    "    \n",
    "    glob_rank = []\n",
    "    glob_recall = {1:0.0,5:0.0,10:0.0}\n",
    "    \n",
    "    for i in range(10):\n",
    "        ids = random.sample(range(0,txt_data.shape[0]-1), 1000)\n",
    "        \n",
    "        txt_sample = projection_txt[ids,:]\n",
    "        img_sample = projection_img[ids,:]\n",
    "        \n",
    "        similarity = np.dot(txt_sample.cpu().numpy(), img_sample.T.cpu().numpy())\n",
    "\n",
    "        med_rank = []\n",
    "        \n",
    "        recall = {1:0.0,5:0.0,10:0.0}\n",
    "        \n",
    "        for ii in idxs:\n",
    "            # get a column of similarities\n",
    "            sim = similarity[ii,:]\n",
    "            # sort indices in descending order\n",
    "            sorting = np.argsort(sim)[::-1].tolist()\n",
    "            # find where the index of the pair sample ended up in the sorting\n",
    "            pos = sorting.index(ii)  \n",
    "            if (pos+1) == 1:\n",
    "                recall[1]+=1\n",
    "            if (pos+1) <=5:\n",
    "                recall[5]+=1\n",
    "            if (pos+1)<=10:\n",
    "                recall[10]+=1\n",
    "            # store the position\n",
    "            med_rank.append(pos+1)\n",
    "        for i in recall.keys():\n",
    "            recall[i]=recall[i]/1000\n",
    "        med = np.median(med_rank)\n",
    "        for i in recall.keys():\n",
    "            glob_recall[i]+=recall[i]\n",
    "        glob_rank.append(med)\n",
    "\n",
    "    for i in glob_recall.keys():\n",
    "        glob_recall[i] = glob_recall[i]/10\n",
    "    \n",
    "    med_dict[\"mean_median\"] = np.average(glob_rank)\n",
    "    med_dict[\"recall\"] = glob_recall\n",
    "    med_dict[\"median_all\"] = glob_rank\n",
    "    print(\"Result:\",med_dict)\n",
    "    return med_dict"
   ]
  },
  {
   "cell_type": "code",
   "execution_count": 10,
   "id": "afd02611",
   "metadata": {},
   "outputs": [],
   "source": [
    "model_img = Encoder(512)\n",
    "model_text = Encoder(512)\n",
    "optimizer = optim.Adam(list(model_text.parameters()) + list(model_img.parameters()) , lr=1e-6)\n",
    "scheduler = torch.optim.lr_scheduler.ReduceLROnPlateau(optimizer, mode='max', patience=2, verbose=True)\n",
    "loss = nn.TripletMarginWithDistanceLoss(distance_function=lambda x, y: 1.0 - F.cosine_similarity(x, y))"
   ]
  },
  {
   "cell_type": "code",
   "execution_count": 11,
   "id": "b9aa0afa",
   "metadata": {},
   "outputs": [],
   "source": [
    "def get_hard_negative(anchor,positive,label):\n",
    "    labels_equal = torch.eq(label.unsqueeze(0),label.unsqueeze(1))\n",
    "    mask_neg = torch.logical_not(labels_equal)\n",
    "    distance_matrix = torch.matmul(anchor, positive.T)\n",
    "    anchor_negative_dist = mask_neg * distance_matrix\n",
    "    hard_negative_idx = torch.argmax(anchor_negative_dist, dim=1)\n",
    "    hard_negative = torch.index_select(positive, 0, hard_negative_idx)\n",
    "    \n",
    "    return hard_negative"
   ]
  },
  {
   "cell_type": "code",
   "execution_count": 12,
   "id": "61851231",
   "metadata": {},
   "outputs": [],
   "source": [
    "from tqdm import tqdm\n",
    "def train(train_loader, img_model, txt_model, loss, optimizer): \n",
    "    total_loss = 0.0       \n",
    "    for i, (img_input_batch, text_input_batch,label) in tqdm(enumerate(train_loader)):\n",
    "        img_input_batch = img_input_batch.to(device)\n",
    "        text_input_batch = text_input_batch.to(device)\n",
    "        label = label.to(device)\n",
    "        hard_negative_emb = get_hard_negative(img_input_batch,text_input_batch,label)\n",
    "        optimizer.zero_grad()\n",
    "        anchor = img_model(img_input_batch.to(device)) \n",
    "        positive = txt_model(text_input_batch.to(device))\n",
    "        negative = txt_model(hard_negative_emb.to(device))\n",
    "        curr_loss = loss(anchor,positive,negative) \n",
    "        curr_loss.backward()\n",
    "        optimizer.step()\n",
    "        total_loss += curr_loss.item()\n",
    "    return total_loss/i"
   ]
  },
  {
   "cell_type": "code",
   "execution_count": 13,
   "id": "d4f1d6d8",
   "metadata": {},
   "outputs": [],
   "source": [
    "def save_model(model, file_name):\n",
    "    torch.save(model, '/common/home/gg676/535/saved_models/'+file_name)"
   ]
  },
  {
   "cell_type": "code",
   "execution_count": 14,
   "id": "cfa8f4b2",
   "metadata": {},
   "outputs": [],
   "source": [
    "def load_model(file_name):\n",
    "    model = torch.load('/common/home/gg676/535/saved_models/'+file_name)\n",
    "    return model"
   ]
  },
  {
   "cell_type": "code",
   "execution_count": 15,
   "id": "50ee6497",
   "metadata": {},
   "outputs": [
    {
     "name": "stderr",
     "output_type": "stream",
     "text": [
      "4400it [00:33, 132.85it/s]\n"
     ]
    },
    {
     "name": "stdout",
     "output_type": "stream",
     "text": [
      "Result: {'mean_median': 225.55, 'recall': {1: 0.011, 5: 0.04189999999999999, 10: 0.0671}, 'median_all': [233.5, 219.5, 232.0, 228.5, 209.5, 218.0, 240.0, 205.0, 243.5, 226.0]}\n",
      "Epoch 0 loss: 0.993343964412175\n"
     ]
    },
    {
     "name": "stderr",
     "output_type": "stream",
     "text": [
      "4400it [00:24, 183.22it/s]\n"
     ]
    },
    {
     "name": "stdout",
     "output_type": "stream",
     "text": [
      "Result: {'mean_median': 149.45, 'recall': {1: 0.03779999999999999, 5: 0.11159999999999999, 10: 0.16209999999999997}, 'median_all': [146.5, 162.0, 146.5, 136.5, 166.5, 126.0, 163.0, 152.0, 142.5, 153.0]}\n",
      "Epoch 1 loss: 0.9470708586189199\n"
     ]
    },
    {
     "name": "stderr",
     "output_type": "stream",
     "text": [
      "4400it [00:23, 189.92it/s]\n"
     ]
    },
    {
     "name": "stdout",
     "output_type": "stream",
     "text": [
      "Result: {'mean_median': 276.25, 'recall': {1: 0.0319, 5: 0.09109999999999999, 10: 0.1291}, 'median_all': [268.5, 284.0, 267.5, 281.0, 277.0, 270.5, 285.5, 289.5, 263.5, 275.5]}\n",
      "Epoch 2 loss: 0.8729838645981236\n"
     ]
    },
    {
     "name": "stderr",
     "output_type": "stream",
     "text": [
      "4400it [00:22, 192.86it/s]\n"
     ]
    },
    {
     "name": "stdout",
     "output_type": "stream",
     "text": [
      "Result: {'mean_median': 331.0, 'recall': {1: 0.0249, 5: 0.0721, 10: 0.1051}, 'median_all': [343.0, 343.0, 341.5, 325.5, 311.0, 346.5, 336.0, 298.5, 341.0, 324.0]}\n",
      "Epoch 3 loss: 0.8165228106022207\n"
     ]
    },
    {
     "name": "stderr",
     "output_type": "stream",
     "text": [
      "4400it [00:24, 182.29it/s]\n"
     ]
    },
    {
     "name": "stdout",
     "output_type": "stream",
     "text": [
      "Result: {'mean_median': 324.65, 'recall': {1: 0.0211, 5: 0.06399999999999999, 10: 0.09339999999999998}, 'median_all': [298.0, 306.5, 351.0, 289.5, 331.5, 346.5, 318.5, 319.0, 340.0, 346.0]}\n",
      "Epoch     5: reducing learning rate of group 0 to 1.0000e-07.\n",
      "Epoch 4 loss: 0.7908403161412668\n"
     ]
    },
    {
     "name": "stderr",
     "output_type": "stream",
     "text": [
      "4400it [00:23, 190.09it/s]\n"
     ]
    },
    {
     "name": "stdout",
     "output_type": "stream",
     "text": [
      "Result: {'mean_median': 331.5, 'recall': {1: 0.021899999999999996, 5: 0.06220000000000001, 10: 0.09559999999999999}, 'median_all': [332.5, 328.5, 376.0, 329.0, 331.5, 319.0, 337.5, 348.5, 306.5, 306.0]}\n",
      "Epoch 5 loss: 0.7826489777450102\n"
     ]
    },
    {
     "name": "stderr",
     "output_type": "stream",
     "text": [
      "4400it [00:22, 193.14it/s]\n"
     ]
    },
    {
     "name": "stdout",
     "output_type": "stream",
     "text": [
      "Result: {'mean_median': 313.95, 'recall': {1: 0.022099999999999995, 5: 0.0623, 10: 0.09469999999999998}, 'median_all': [299.0, 326.5, 307.5, 339.0, 289.0, 305.5, 322.0, 352.5, 308.5, 290.0]}\n",
      "Epoch 6 loss: 0.7812105380667695\n"
     ]
    },
    {
     "name": "stderr",
     "output_type": "stream",
     "text": [
      "4400it [00:23, 188.80it/s]\n"
     ]
    },
    {
     "name": "stdout",
     "output_type": "stream",
     "text": [
      "Result: {'mean_median': 315.3, 'recall': {1: 0.017799999999999996, 5: 0.06339999999999998, 10: 0.09329999999999998}, 'median_all': [308.0, 297.5, 334.0, 321.0, 290.0, 314.0, 346.0, 333.5, 310.0, 299.0]}\n",
      "Epoch     8: reducing learning rate of group 0 to 1.0000e-08.\n",
      "Epoch 7 loss: 0.7803765657842905\n"
     ]
    },
    {
     "name": "stderr",
     "output_type": "stream",
     "text": [
      "4400it [00:22, 193.48it/s]\n"
     ]
    },
    {
     "name": "stdout",
     "output_type": "stream",
     "text": [
      "Result: {'mean_median': 310.6, 'recall': {1: 0.02, 5: 0.06510000000000002, 10: 0.09489999999999998}, 'median_all': [281.5, 301.5, 305.5, 298.5, 297.5, 309.0, 333.0, 320.5, 317.5, 341.5]}\n",
      "Epoch 8 loss: 0.7783861455930366\n"
     ]
    },
    {
     "name": "stderr",
     "output_type": "stream",
     "text": [
      "4400it [00:23, 189.76it/s]\n"
     ]
    },
    {
     "name": "stdout",
     "output_type": "stream",
     "text": [
      "Result: {'mean_median': 321.4, 'recall': {1: 0.0209, 5: 0.06130000000000001, 10: 0.09269999999999998}, 'median_all': [307.5, 321.0, 325.5, 301.5, 325.0, 338.0, 313.0, 308.0, 353.0, 321.5]}\n",
      "Epoch 9 loss: 0.7790049427502479\n"
     ]
    },
    {
     "name": "stderr",
     "output_type": "stream",
     "text": [
      "4400it [00:22, 193.25it/s]\n"
     ]
    },
    {
     "name": "stdout",
     "output_type": "stream",
     "text": [
      "Result: {'mean_median': 310.1, 'recall': {1: 0.0204, 5: 0.06340000000000001, 10: 0.09239999999999998}, 'median_all': [298.5, 332.0, 311.0, 296.5, 310.0, 320.0, 316.5, 302.5, 311.0, 303.0]}\n",
      "Epoch 10 loss: 0.7785375781237036\n"
     ]
    },
    {
     "name": "stderr",
     "output_type": "stream",
     "text": [
      "4400it [00:23, 185.15it/s]\n"
     ]
    },
    {
     "name": "stdout",
     "output_type": "stream",
     "text": [
      "Result: {'mean_median': 322.7, 'recall': {1: 0.019299999999999998, 5: 0.06180000000000001, 10: 0.09359999999999999}, 'median_all': [296.5, 326.5, 367.0, 328.0, 311.0, 328.0, 260.0, 328.5, 341.5, 340.0]}\n",
      "Epoch 11 loss: 0.7794914712524328\n"
     ]
    },
    {
     "name": "stderr",
     "output_type": "stream",
     "text": [
      "4400it [00:22, 193.80it/s]\n"
     ]
    },
    {
     "name": "stdout",
     "output_type": "stream",
     "text": [
      "Result: {'mean_median': 315.45, 'recall': {1: 0.0197, 5: 0.06080000000000001, 10: 0.08759999999999998}, 'median_all': [303.5, 337.0, 302.5, 302.0, 306.5, 341.0, 340.5, 327.5, 306.0, 288.0]}\n",
      "Epoch 12 loss: 0.7789189894650844\n"
     ]
    },
    {
     "name": "stderr",
     "output_type": "stream",
     "text": [
      "4400it [00:23, 188.33it/s]\n"
     ]
    },
    {
     "name": "stdout",
     "output_type": "stream",
     "text": [
      "Result: {'mean_median': 332.4, 'recall': {1: 0.0215, 5: 0.0639, 10: 0.09429999999999998}, 'median_all': [351.0, 314.5, 293.0, 370.0, 332.5, 354.0, 325.5, 331.0, 346.5, 306.0]}\n",
      "Epoch 13 loss: 0.7795453060077087\n"
     ]
    },
    {
     "name": "stderr",
     "output_type": "stream",
     "text": [
      "4400it [00:22, 192.95it/s]\n"
     ]
    },
    {
     "name": "stdout",
     "output_type": "stream",
     "text": [
      "Result: {'mean_median': 323.55, 'recall': {1: 0.0195, 5: 0.0633, 10: 0.09369999999999998}, 'median_all': [331.0, 336.5, 313.5, 320.5, 359.0, 340.0, 341.0, 301.5, 304.0, 288.5]}\n",
      "Epoch 14 loss: 0.7790868377707226\n"
     ]
    }
   ],
   "source": [
    "no_epochs = 15\n",
    "model_img = model_img.to(device)\n",
    "model_text = model_text.to(device)\n",
    "model_img.train()\n",
    "model_text.train()\n",
    "lowest_median_rank = 99.0\n",
    "for epoch in range(no_epochs):\n",
    "    train_loss = train(train_loader, model_img, model_text,loss,optimizer)\n",
    "    with torch.no_grad():\n",
    "        model_img.eval()\n",
    "        model_text.eval()\n",
    "        out_text, out_img = model_text(torch.tensor(text_val).to('cuda:3')), model_img(torch.tensor(img_val).to('cuda:3'))\n",
    "        med_rank = rank(out_text,out_img)\n",
    "        if med_rank['mean_median'] < lowest_median_rank:\n",
    "            lowest_median_rank = med_rank['mean_median']\n",
    "            save_model(model_text, 'title_model_triplet')\n",
    "            save_model(model_img, 'img_title_model_triplet')\n",
    "    scheduler.step(med_rank['recall'][1])\n",
    "    print('Epoch {} loss: {}'.format(epoch, train_loss))"
   ]
  },
  {
   "cell_type": "code",
   "execution_count": null,
   "id": "98ca8305",
   "metadata": {},
   "outputs": [],
   "source": [
    "txt_model = load_model('text_model_triplet')\n",
    "img_model = load_model('img_model_triplet')\n",
    "with torch.no_grad():\n",
    "    img_model.eval()\n",
    "    txt_model.eval()\n",
    "    r_text = txt_model(torch.tensor(text_test).to('cuda:1'))\n",
    "    r_img = img_model(torch.tensor(img_test).to('cuda:1'))\n",
    "    test_result = rank(r_text, r_img)\n",
    "test_result"
   ]
  },
  {
   "cell_type": "code",
   "execution_count": null,
   "id": "41e0c701",
   "metadata": {},
   "outputs": [],
   "source": [
    "with open('/common/home/gg676/535/task_2/tsne_data/title_text_triplet.pkl', 'wb') as fp:\n",
    "    pickle.dump(r_text, fp)\n",
    "with open('/common/home/gg676/535/task_2/tsne_data/title_img_triplet.pkl', 'wb') as fp:\n",
    "    pickle.dump(r_img, fp)"
   ]
  },
  {
   "cell_type": "code",
   "execution_count": null,
   "id": "6940fc34",
   "metadata": {},
   "outputs": [],
   "source": []
  }
 ],
 "metadata": {
  "kernelspec": {
   "display_name": "Python 3",
   "language": "python",
   "name": "python3"
  },
  "language_info": {
   "codemirror_mode": {
    "name": "ipython",
    "version": 3
   },
   "file_extension": ".py",
   "mimetype": "text/x-python",
   "name": "python",
   "nbconvert_exporter": "python",
   "pygments_lexer": "ipython3",
   "version": "3.8.10"
  }
 },
 "nbformat": 4,
 "nbformat_minor": 5
}
