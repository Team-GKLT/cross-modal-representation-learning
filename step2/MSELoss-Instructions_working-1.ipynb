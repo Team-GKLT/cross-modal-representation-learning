{
 "cells": [
  {
   "cell_type": "code",
   "execution_count": 19,
   "id": "a7620846",
   "metadata": {},
   "outputs": [],
   "source": [
    "import os\n",
    "import pickle\n",
    "import torch\n",
    "from torch.utils.data import DataLoader\n",
    "import torch.nn as nn\n",
    "import torch.nn.functional as F\n",
    "import numpy as np\n",
    "import torch\n",
    "import random"
   ]
  },
  {
   "cell_type": "code",
   "execution_count": null,
   "id": "ea60e8aa",
   "metadata": {},
   "outputs": [],
   "source": []
  },
  {
   "cell_type": "code",
   "execution_count": 20,
   "id": "bcf5d891",
   "metadata": {},
   "outputs": [],
   "source": [
    "with open('/common/home/gg676/Downloads/embeddings_train1.pkl', 'rb') as f:\n",
    "    obj = f.read()\n",
    "    data = pickle.loads(obj, encoding='latin1')    \n",
    "with open('/common/home/gg676/Downloads/instructions_embeddings_train.pkl', 'rb') as f:\n",
    "    obj = f.read()\n",
    "    only_txt = pickle.loads(obj, encoding='latin1')\n",
    "data[1] = only_txt[0]\n",
    "    \n",
    "\n",
    "    \n",
    "with open('/common/home/gg676/Downloads/embeddings_val1.pkl', 'rb') as f:\n",
    "    val_emb = pickle.load(f)\n",
    "val_img = val_emb[0]\n",
    "with open('/common/home/gg676/Downloads/instructions_embeddings_val.pkl', 'rb') as f:\n",
    "    val_data = pickle.load(f)\n",
    "val_txt = val_data[0]\n",
    "\n",
    "\n",
    "\n",
    "\n",
    "\n",
    "with open('/common/home/gg676/Downloads/embeddings_test1.pkl', 'rb') as f:\n",
    "    test_emb = pickle.load(f)\n",
    "test_img = test_emb[0]\n",
    "with open('/common/home/gg676/Downloads/instructions_embeddings_test.pkl', 'rb') as f:\n",
    "    test_data = pickle.load(f)\n",
    "test_txt = test_data[0]"
   ]
  },
  {
   "cell_type": "code",
   "execution_count": 3,
   "id": "5cb4b71d",
   "metadata": {},
   "outputs": [],
   "source": [
    "class FeatureDataset(torch.utils.data.Dataset):\n",
    "    def __init__(self, dataset):\n",
    "        self.dataset = dataset\n",
    "    \n",
    "    def __len__(self):\n",
    "        return self.dataset[0].shape[0]\n",
    "    \n",
    "    def __getitem__(self, idx):\n",
    "        text, img = self.dataset[1][idx], self.dataset[0][idx]\n",
    "        return text, img\n",
    "\n",
    "dataset = FeatureDataset(data)\n",
    "train_loader = DataLoader(dataset, batch_size=64, shuffle=False)"
   ]
  },
  {
   "cell_type": "code",
   "execution_count": 4,
   "id": "ed5ea82e",
   "metadata": {},
   "outputs": [],
   "source": [
    "import torch\n",
    "import torch.nn as nn\n",
    "import torch.nn.functional as F\n",
    "class TextEncoder(nn.Module):\n",
    "    def __init__(self,output_size,input_size=1024):\n",
    "        super().__init__()\n",
    "        self.layers = nn.Sequential(\n",
    "            nn.Linear(input_size, 512),\n",
    "            nn.BatchNorm1d(512),\n",
    "            nn.Dropout(0.3),\n",
    "            nn.LeakyReLU()\n",
    "        )\n",
    "        self.output = nn.Linear(512, output_size)\n",
    "    \n",
    "    def forward(self, x):\n",
    "        x = self.layers(x)\n",
    "        return self.output(x)"
   ]
  },
  {
   "cell_type": "code",
   "execution_count": 5,
   "id": "0f98356e",
   "metadata": {},
   "outputs": [],
   "source": [
    "class ImgEncoder(nn.Module):\n",
    "    def __init__(self,output_size,input_size=1024):\n",
    "        super().__init__()\n",
    "        self.layers = nn.Sequential(\n",
    "            nn.Linear(input_size, 512),\n",
    "            nn.BatchNorm1d(512),\n",
    "            nn.Dropout(),\n",
    "            nn.LeakyReLU()\n",
    "        )\n",
    "        self.output = nn.Linear(512, output_size)\n",
    "    \n",
    "    def forward(self, x):\n",
    "        x = self.layers(x)\n",
    "        return self.output(x)"
   ]
  },
  {
   "cell_type": "code",
   "execution_count": null,
   "id": "9518bfe3",
   "metadata": {},
   "outputs": [],
   "source": []
  },
  {
   "cell_type": "code",
   "execution_count": 6,
   "id": "563ba9a5",
   "metadata": {},
   "outputs": [],
   "source": [
    "def rank(txt_data, img_data):\n",
    "    results_dict = {}\n",
    "    projection_txt, projection_img = txt_data, img_data\n",
    "    \n",
    "    idxs = range(1000)\n",
    "    \n",
    "    glob_rank = []\n",
    "    glob_recall = {1:0.0,5:0.0,10:0.0}\n",
    "    \n",
    "    for i in range(10):\n",
    "        ids = random.sample(range(0,txt_data.shape[0]-1), 1000)\n",
    "        \n",
    "        txt_sample = projection_txt[ids,:]\n",
    "        img_sample = projection_img[ids,:]\n",
    "        \n",
    "        similarity = np.dot(txt_sample.cpu().numpy(), img_sample.T.cpu().numpy())\n",
    "\n",
    "        med_rank = []\n",
    "        \n",
    "        recall = {1:0.0,5:0.0,10:0.0}\n",
    "        \n",
    "        for ii in idxs:\n",
    "            # get a column of similarities\n",
    "            sim = similarity[ii,:]\n",
    "            # sort indices in descending order\n",
    "            sorting = np.argsort(sim)[::-1].tolist()\n",
    "            # find where the index of the pair sample ended up in the sorting\n",
    "            pos = sorting.index(ii)  \n",
    "            if (pos+1) == 1:\n",
    "                recall[1]+=1\n",
    "            if (pos+1) <=5:\n",
    "                recall[5]+=1\n",
    "            if (pos+1)<=10:\n",
    "                recall[10]+=1\n",
    "            # store the position\n",
    "            med_rank.append(pos+1)\n",
    "        for i in recall.keys():\n",
    "            recall[i]=recall[i]/1000\n",
    "        med = np.median(med_rank)\n",
    "        for i in recall.keys():\n",
    "            glob_recall[i]+=recall[i]\n",
    "        glob_rank.append(med)\n",
    "\n",
    "    for i in glob_recall.keys():\n",
    "        glob_recall[i] = glob_recall[i]/10\n",
    "    med_dict = {}\n",
    "    med_dict[\"mean_median\"] = np.average(glob_rank)\n",
    "    med_dict[\"recall\"] = glob_recall\n",
    "    med_dict[\"median_all\"] = glob_rank\n",
    "#     print(\"Mean median\", np.average(glob_rank))\n",
    "#     print(\"Recall\", glob_recall)\n",
    "    print(\"Result:\",med_dict)\n",
    "    \n",
    "    return med_dict"
   ]
  },
  {
   "cell_type": "code",
   "execution_count": 7,
   "id": "045769cf",
   "metadata": {},
   "outputs": [],
   "source": [
    "import time\n",
    "from tqdm import tqdm\n",
    "def train(train_loader, img_model, txt_model, criterion, optimizer_txt, optimizer_img, epoch):\n",
    "    img_model.train()\n",
    "    txt_model.train()   \n",
    "    running_loss = []\n",
    "    optimizer_txt.zero_grad()\n",
    "    optimizer_img.zero_grad()\n",
    "    \n",
    "    for i, (txt_emb,img_emb) in tqdm(enumerate(train_loader)):\n",
    "        \n",
    "        txt_emb = txt_emb.to('cuda:1')\n",
    "        img_emb = img_emb.to('cuda:1')\n",
    "        \n",
    "        optimizer_txt.zero_grad()\n",
    "        optimizer_img.zero_grad()\n",
    "        \n",
    "        out_txt_emb = txt_model(txt_emb)\n",
    "        out_img_emb = img_model(img_emb) \n",
    "        \n",
    "        \n",
    "        ######\n",
    "        \n",
    "        loss = criterion(out_txt_emb, out_img_emb)\n",
    "        \n",
    "        \n",
    "        loss.backward()\n",
    "        optimizer_txt.step()\n",
    "        optimizer_img.step()\n",
    "        \n",
    "        running_loss.append(loss.item())\n",
    "    return sum(running_loss)/len(running_loss)"
   ]
  },
  {
   "cell_type": "code",
   "execution_count": 18,
   "id": "1197e8a9",
   "metadata": {},
   "outputs": [],
   "source": [
    "def load_model(file_name):\n",
    "    model = torch.load('/common/home/gg676/535/saved_models/'+file_name)\n",
    "    return model"
   ]
  },
  {
   "cell_type": "code",
   "execution_count": 9,
   "id": "fdf3bcb1",
   "metadata": {},
   "outputs": [],
   "source": [
    "def save_model(model, file_name):\n",
    "    torch.save(model, '/common/home/gg676/535/saved_models/'+file_name)"
   ]
  },
  {
   "cell_type": "code",
   "execution_count": 10,
   "id": "b218023a",
   "metadata": {
    "scrolled": true
   },
   "outputs": [
    {
     "name": "stderr",
     "output_type": "stream",
     "text": [
      "4400it [00:22, 196.66it/s]\n"
     ]
    },
    {
     "name": "stdout",
     "output_type": "stream",
     "text": [
      "Epoch 0 loss: 0.40587841970676725 \n",
      "\n",
      "Result: {'mean_median': 69.45, 'recall': {1: 0.039400000000000004, 5: 0.12710000000000002, 10: 0.1946}, 'median_all': [59.0, 73.0, 76.0, 67.5, 73.5, 63.0, 67.5, 66.0, 71.5, 77.5]}\n"
     ]
    },
    {
     "name": "stderr",
     "output_type": "stream",
     "text": [
      "4400it [00:20, 216.45it/s]\n"
     ]
    },
    {
     "name": "stdout",
     "output_type": "stream",
     "text": [
      "Epoch 1 loss: 0.3091384435851466 \n",
      "\n",
      "Result: {'mean_median': 30.5, 'recall': {1: 0.08159999999999998, 5: 0.2246, 10: 0.31900000000000006}, 'median_all': [29.0, 32.0, 32.0, 33.0, 30.5, 30.0, 27.5, 31.0, 27.0, 33.0]}\n"
     ]
    },
    {
     "name": "stderr",
     "output_type": "stream",
     "text": [
      "4400it [00:20, 218.12it/s]\n"
     ]
    },
    {
     "name": "stdout",
     "output_type": "stream",
     "text": [
      "Epoch 2 loss: 0.26138834014873613 \n",
      "\n",
      "Result: {'mean_median': 28.3, 'recall': {1: 0.09219999999999998, 5: 0.24450000000000002, 10: 0.3355}, 'median_all': [27.5, 25.0, 32.0, 30.0, 30.0, 25.5, 29.0, 27.0, 30.0, 27.0]}\n"
     ]
    },
    {
     "name": "stderr",
     "output_type": "stream",
     "text": [
      "4400it [00:18, 243.30it/s]\n"
     ]
    },
    {
     "name": "stdout",
     "output_type": "stream",
     "text": [
      "Epoch 3 loss: 0.2275117714703083 \n",
      "\n",
      "Result: {'mean_median': 37.3, 'recall': {1: 0.07289999999999999, 5: 0.2081, 10: 0.29179999999999995}, 'median_all': [40.5, 37.5, 42.0, 39.0, 35.0, 34.0, 37.0, 37.0, 37.0, 34.0]}\n"
     ]
    },
    {
     "name": "stderr",
     "output_type": "stream",
     "text": [
      "4400it [00:17, 245.80it/s]\n"
     ]
    },
    {
     "name": "stdout",
     "output_type": "stream",
     "text": [
      "Epoch 4 loss: 0.20001971651207318 \n",
      "\n",
      "Result: {'mean_median': 49.95, 'recall': {1: 0.05669999999999999, 5: 0.17329999999999998, 10: 0.2501}, 'median_all': [48.0, 48.0, 54.0, 56.5, 49.0, 47.0, 52.0, 50.0, 49.0, 46.0]}\n"
     ]
    },
    {
     "name": "stderr",
     "output_type": "stream",
     "text": [
      "4400it [00:19, 231.14it/s]\n"
     ]
    },
    {
     "name": "stdout",
     "output_type": "stream",
     "text": [
      "Epoch 5 loss: 0.17620459077710454 \n",
      "\n",
      "Result: {'mean_median': 80.0, 'recall': {1: 0.033600000000000005, 5: 0.1169, 10: 0.18159999999999998}, 'median_all': [84.5, 87.5, 68.0, 89.5, 83.0, 83.0, 79.5, 80.0, 73.0, 72.0]}\n"
     ]
    },
    {
     "name": "stderr",
     "output_type": "stream",
     "text": [
      "4400it [00:19, 230.53it/s]\n"
     ]
    },
    {
     "name": "stdout",
     "output_type": "stream",
     "text": [
      "Epoch 6 loss: 0.15519169056280094 \n",
      "\n",
      "Result: {'mean_median': 103.45, 'recall': {1: 0.0273, 5: 0.08729999999999999, 10: 0.13940000000000002}, 'median_all': [95.5, 106.0, 100.5, 102.0, 111.0, 98.0, 93.5, 115.0, 106.0, 107.0]}\n"
     ]
    },
    {
     "name": "stderr",
     "output_type": "stream",
     "text": [
      "4400it [00:20, 214.27it/s]\n"
     ]
    },
    {
     "name": "stdout",
     "output_type": "stream",
     "text": [
      "Epoch 7 loss: 0.13632186066528612 \n",
      "\n",
      "Result: {'mean_median': 136.35, 'recall': {1: 0.017099999999999997, 5: 0.06799999999999999, 10: 0.10669999999999999}, 'median_all': [137.0, 129.0, 133.0, 124.0, 152.5, 140.0, 134.0, 136.0, 140.5, 137.5]}\n"
     ]
    },
    {
     "name": "stderr",
     "output_type": "stream",
     "text": [
      "4400it [00:20, 219.23it/s]\n"
     ]
    },
    {
     "name": "stdout",
     "output_type": "stream",
     "text": [
      "Epoch 8 loss: 0.11943928143348206 \n",
      "\n",
      "Result: {'mean_median': 158.05, 'recall': {1: 0.0176, 5: 0.0596, 10: 0.0924}, 'median_all': [168.5, 154.0, 161.0, 164.0, 154.5, 156.0, 135.5, 177.5, 157.5, 152.0]}\n"
     ]
    },
    {
     "name": "stderr",
     "output_type": "stream",
     "text": [
      "4400it [00:17, 248.57it/s]\n"
     ]
    },
    {
     "name": "stdout",
     "output_type": "stream",
     "text": [
      "Epoch 9 loss: 0.10437178208069368 \n",
      "\n",
      "Result: {'mean_median': 167.95, 'recall': {1: 0.0163, 5: 0.05349999999999999, 10: 0.08659999999999998}, 'median_all': [151.0, 168.5, 170.5, 169.0, 168.0, 161.0, 161.0, 182.0, 185.0, 163.5]}\n"
     ]
    }
   ],
   "source": [
    "no_epochs = 10\n",
    "img_model = ImgEncoder(512).to('cuda:1')\n",
    "txt_model = TextEncoder(512).to('cuda:1')\n",
    "lowest_median_rank = 990.0\n",
    "optimizer_txt = torch.optim.Adam(txt_model.parameters(), lr=1e-6, weight_decay=1e-7)\n",
    "optimizer_img = torch.optim.Adam(img_model.parameters(), lr=1e-6, weight_decay=1e-7)\n",
    "criterion = nn.MSELoss() \n",
    "for epoch in range(no_epochs):\n",
    "    img_model.train()\n",
    "    txt_model.train()\n",
    "    train_loss = train(train_loader, img_model, txt_model, criterion, optimizer_txt, optimizer_img, epoch)\n",
    "    print('Epoch {} loss: {} {}'.format(epoch, train_loss, \"\\n\"))\n",
    "    with torch.no_grad():\n",
    "        txt_model.eval()\n",
    "        img_model.eval()\n",
    "        out_text, out_img = txt_model(torch.tensor(val_txt).to('cuda:1')), img_model(torch.tensor(val_img).to('cuda:1'))\n",
    "        med_rank = rank(out_text,out_img)\n",
    "        if med_rank['mean_median'] < lowest_median_rank:\n",
    "            lowest_median_rank = med_rank['mean_median']\n",
    "            save_model(txt_model, 'text_INSTRUCTIONS_model_mse')\n",
    "            save_model(img_model, 'img_INSTRUCTIONS_model_mse')"
   ]
  },
  {
   "cell_type": "code",
   "execution_count": 21,
   "id": "83a67593",
   "metadata": {},
   "outputs": [
    {
     "name": "stdout",
     "output_type": "stream",
     "text": [
      "Result: {'mean_median': 29.0, 'recall': {1: 0.09159999999999999, 5: 0.2387, 10: 0.33290000000000003}, 'median_all': [34.0, 29.0, 29.0, 27.0, 29.0, 30.0, 29.0, 25.0, 31.0, 27.0]}\n"
     ]
    },
    {
     "data": {
      "text/plain": [
       "{'mean_median': 29.0,\n",
       " 'recall': {1: 0.09159999999999999, 5: 0.2387, 10: 0.33290000000000003},\n",
       " 'median_all': [34.0, 29.0, 29.0, 27.0, 29.0, 30.0, 29.0, 25.0, 31.0, 27.0]}"
      ]
     },
     "execution_count": 21,
     "metadata": {},
     "output_type": "execute_result"
    }
   ],
   "source": [
    "txt_model = load_model('text_INSTRUCTIONS_model_mse')\n",
    "img_model = load_model('img_INSTRUCTIONS_model_mse')\n",
    "with torch.no_grad():\n",
    "    img_model.eval()\n",
    "    txt_model.eval()\n",
    "    test_result = rank(txt_model(torch.tensor(test_txt).to('cuda:1')), img_model(torch.tensor(test_img).to('cuda:1')))\n",
    "test_result"
   ]
  },
  {
   "cell_type": "code",
   "execution_count": null,
   "id": "0acbf0f5",
   "metadata": {},
   "outputs": [],
   "source": [
    "dataset = FeatureDataset(data)\n",
    "train_loader = DataLoader(dataset, batch_size=64, shuffle=False)"
   ]
  },
  {
   "cell_type": "code",
   "execution_count": 12,
   "id": "4985ae37",
   "metadata": {},
   "outputs": [
    {
     "data": {
      "text/plain": [
       "tensor([1., 2.])"
      ]
     },
     "execution_count": 12,
     "metadata": {},
     "output_type": "execute_result"
    }
   ],
   "source": [
    "1 - torch.nn.functional.cosine_similarity(torch.tensor([[1, 0], [2, 2]]).float(), torch.tensor([[0, 1], [-1, -1]]).long())"
   ]
  },
  {
   "cell_type": "code",
   "execution_count": 22,
   "id": "04b2a144",
   "metadata": {},
   "outputs": [],
   "source": [
    "out_text_test, out_img_test = txt_model(torch.tensor(test_txt).to('cuda:1')), img_model(torch.tensor(test_img).to('cuda:1'))"
   ]
  },
  {
   "cell_type": "code",
   "execution_count": 23,
   "id": "fa1dbc9c",
   "metadata": {},
   "outputs": [
    {
     "data": {
      "text/plain": [
       "60740"
      ]
     },
     "execution_count": 23,
     "metadata": {},
     "output_type": "execute_result"
    }
   ],
   "source": [
    "len(out_text_test)"
   ]
  },
  {
   "cell_type": "code",
   "execution_count": 25,
   "id": "f826e7b6",
   "metadata": {},
   "outputs": [],
   "source": [
    "with open('/common/home/gg676/535/task_2/tsne_data/instructions_text.pkl', 'wb') as fp:\n",
    "    pickle.dump(out_text_test, fp)\n",
    "with open('/common/home/gg676/535/task_2/tsne_data/instructions_img.pkl', 'wb') as fp:\n",
    "    pickle.dump(out_img_test, fp)"
   ]
  },
  {
   "cell_type": "code",
   "execution_count": null,
   "id": "908bd03a",
   "metadata": {},
   "outputs": [],
   "source": []
  }
 ],
 "metadata": {
  "kernelspec": {
   "display_name": "Python 3",
   "language": "python",
   "name": "python3"
  },
  "language_info": {
   "codemirror_mode": {
    "name": "ipython",
    "version": 3
   },
   "file_extension": ".py",
   "mimetype": "text/x-python",
   "name": "python",
   "nbconvert_exporter": "python",
   "pygments_lexer": "ipython3",
   "version": "3.8.10"
  }
 },
 "nbformat": 4,
 "nbformat_minor": 5
}
