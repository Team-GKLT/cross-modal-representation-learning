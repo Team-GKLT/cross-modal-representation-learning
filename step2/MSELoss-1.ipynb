{
 "cells": [
  {
   "cell_type": "code",
   "execution_count": 1,
   "id": "a7620846",
   "metadata": {},
   "outputs": [],
   "source": [
    "import os\n",
    "import pickle\n",
    "import random\n",
    "import numpy as np\n",
    "from tqdm import tqdm\n",
    "import torch\n",
    "import torch.nn as nn\n",
    "from torch.utils.data import DataLoader\n",
    "import torch.nn.functional as F"
   ]
  },
  {
   "cell_type": "code",
   "execution_count": 2,
   "id": "bb54f429",
   "metadata": {},
   "outputs": [],
   "source": [
    "def load_pickled_data(path):\n",
    "    with open(path, 'rb') as fp:\n",
    "        data = pickle.load(fp)\n",
    "    return data"
   ]
  },
  {
   "cell_type": "code",
   "execution_count": 3,
   "id": "0b317342",
   "metadata": {},
   "outputs": [],
   "source": [
    "features_train = load_pickled_data('/common/home/gg676/Downloads/embeddings_train1.pkl')\n",
    "features_val = load_pickled_data('/common/home/gg676/Downloads/embeddings_val1.pkl')\n",
    "features_test = load_pickled_data('/common/home/gg676/Downloads/embeddings_test1.pkl')"
   ]
  },
  {
   "cell_type": "code",
   "execution_count": 4,
   "id": "9c98a3d0",
   "metadata": {},
   "outputs": [],
   "source": [
    "img_val = features_val[0]\n",
    "text_val = features_val[1]\n",
    "img_test = features_test[0]\n",
    "text_test = features_test[1]"
   ]
  },
  {
   "cell_type": "code",
   "execution_count": 5,
   "id": "5cb4b71d",
   "metadata": {},
   "outputs": [],
   "source": [
    "class FeatureDataset(torch.utils.data.Dataset):\n",
    "    def __init__(self, dataset):\n",
    "        self.dataset = dataset\n",
    "    \n",
    "    def __len__(self):\n",
    "        return self.dataset[0].shape[0]\n",
    "    \n",
    "    def __getitem__(self, idx):\n",
    "        text, img = self.dataset[1][idx], self.dataset[0][idx]\n",
    "        return text, img\n",
    "\n",
    "dataset = FeatureDataset(features_train)\n",
    "train_loader = DataLoader(dataset, batch_size=64, shuffle=True, num_workers=64)"
   ]
  },
  {
   "cell_type": "code",
   "execution_count": 6,
   "id": "ed5ea82e",
   "metadata": {},
   "outputs": [],
   "source": [
    "class TextEncoder(nn.Module):\n",
    "    def __init__(self,output_size,input_size=1024):\n",
    "        super().__init__()\n",
    "        self.layers = nn.Sequential(\n",
    "            nn.Linear(input_size, 512),\n",
    "            nn.BatchNorm1d(512),\n",
    "            nn.Dropout(0.3),\n",
    "            nn.LeakyReLU()\n",
    "        )\n",
    "        self.output = nn.Linear(512, output_size)\n",
    "    \n",
    "    def forward(self, x):\n",
    "        x = self.layers(x)\n",
    "        return self.output(x)"
   ]
  },
  {
   "cell_type": "code",
   "execution_count": 7,
   "id": "0f98356e",
   "metadata": {},
   "outputs": [],
   "source": [
    "class ImgEncoder(nn.Module):\n",
    "    def __init__(self,output_size,input_size=1024):\n",
    "        super().__init__()\n",
    "        self.layers = nn.Sequential(\n",
    "            nn.Linear(input_size, 512),\n",
    "            nn.BatchNorm1d(512),\n",
    "            nn.Dropout(),\n",
    "            nn.LeakyReLU()\n",
    "        )\n",
    "        self.output = nn.Linear(512, output_size)\n",
    "    \n",
    "    def forward(self, x):\n",
    "        x = self.layers(x)\n",
    "        return self.output(x)"
   ]
  },
  {
   "cell_type": "code",
   "execution_count": 8,
   "id": "563ba9a5",
   "metadata": {},
   "outputs": [],
   "source": [
    "def rank(txt_data, img_data):\n",
    "    results_dict = {}\n",
    "    projection_txt, projection_img = txt_data, img_data\n",
    "    \n",
    "    idxs = range(1000)\n",
    "    \n",
    "    glob_rank = []\n",
    "    glob_recall = {1:0.0,5:0.0,10:0.0}\n",
    "    \n",
    "    for i in range(10):\n",
    "        ids = random.sample(range(0,txt_data.shape[0]-1), 1000)\n",
    "        \n",
    "        txt_sample = projection_txt[ids,:]\n",
    "        img_sample = projection_img[ids,:]\n",
    "        \n",
    "        similarity = np.dot(txt_sample.cpu().numpy(), img_sample.T.cpu().numpy())\n",
    "\n",
    "        med_rank = []\n",
    "        \n",
    "        recall = {1:0.0,5:0.0,10:0.0}\n",
    "        \n",
    "        for ii in idxs:\n",
    "            # get a column of similarities\n",
    "            sim = similarity[ii,:]\n",
    "            # sort indices in descending order\n",
    "            sorting = np.argsort(sim)[::-1].tolist()\n",
    "            # find where the index of the pair sample ended up in the sorting\n",
    "            pos = sorting.index(ii)  \n",
    "            if (pos+1) == 1:\n",
    "                recall[1]+=1\n",
    "            if (pos+1) <=5:\n",
    "                recall[5]+=1\n",
    "            if (pos+1)<=10:\n",
    "                recall[10]+=1\n",
    "            # store the position\n",
    "            med_rank.append(pos+1)\n",
    "        for i in recall.keys():\n",
    "            recall[i]=recall[i]/1000\n",
    "        med = np.median(med_rank)\n",
    "        for i in recall.keys():\n",
    "            glob_recall[i]+=recall[i]\n",
    "        glob_rank.append(med)\n",
    "\n",
    "    for i in glob_recall.keys():\n",
    "        glob_recall[i] = glob_recall[i]/10\n",
    "    med_dict = {}\n",
    "    med_dict[\"mean_median\"] = np.average(glob_rank)\n",
    "    med_dict[\"recall\"] = glob_recall\n",
    "    med_dict[\"median_all\"] = glob_rank\n",
    "    print(\"Result:\",med_dict)\n",
    "    return med_dict"
   ]
  },
  {
   "cell_type": "code",
   "execution_count": 9,
   "id": "045769cf",
   "metadata": {},
   "outputs": [],
   "source": [
    "def train(train_loader, img_model, txt_model, criterion, optimizer_txt, optimizer_img, epoch):\n",
    "    img_model.train()\n",
    "    txt_model.train()   \n",
    "    running_loss = []\n",
    "    optimizer_txt.zero_grad()\n",
    "    optimizer_img.zero_grad()\n",
    "    \n",
    "    for i, (img_input_batch, text_input_batch) in tqdm(enumerate(train_loader)):\n",
    "        img_input_batch = img_input_batch.to('cuda:1')\n",
    "        text_input_batch = text_input_batch.to('cuda:1')\n",
    "        \n",
    "        \n",
    "        optimizer_txt.zero_grad()\n",
    "        optimizer_img.zero_grad()\n",
    "        out_img_emb = img_model(img_input_batch)\n",
    "        out_txt_emb = txt_model(text_input_batch)\n",
    "       \n",
    "        loss = criterion(out_txt_emb, out_img_emb)    \n",
    "        loss.backward()\n",
    "        optimizer_txt.step()\n",
    "        optimizer_img.step()\n",
    "        \n",
    "        running_loss.append(loss.item())\n",
    "    return sum(running_loss)/len(running_loss)"
   ]
  },
  {
   "cell_type": "code",
   "execution_count": 10,
   "id": "ef85f102",
   "metadata": {},
   "outputs": [],
   "source": [
    "def save_model(model, file_name):\n",
    "    torch.save(model, '/common/home/gg676/535/saved_models/'+file_name)"
   ]
  },
  {
   "cell_type": "code",
   "execution_count": 11,
   "id": "a334ec69",
   "metadata": {},
   "outputs": [],
   "source": [
    "def load_model(file_name):\n",
    "    model = torch.load('/common/home/gg676/535/saved_models/'+file_name)\n",
    "    return model"
   ]
  },
  {
   "cell_type": "code",
   "execution_count": 12,
   "id": "b218023a",
   "metadata": {
    "scrolled": true
   },
   "outputs": [
    {
     "name": "stderr",
     "output_type": "stream",
     "text": [
      "4400it [00:34, 129.16it/s]\n"
     ]
    },
    {
     "name": "stdout",
     "output_type": "stream",
     "text": [
      "  Epoch 0 loss: 0.4023148629137061 \n",
      "\n",
      "Result: {'mean_median': 18.5, 'recall': {1: 0.11789999999999998, 5: 0.29569999999999996, 10: 0.4025}, 'median_all': [18.0, 19.0, 18.0, 17.0, 20.0, 20.0, 18.0, 18.0, 18.0, 19.0]}\n"
     ]
    },
    {
     "name": "stderr",
     "output_type": "stream",
     "text": [
      "4400it [00:31, 138.12it/s]\n"
     ]
    },
    {
     "name": "stdout",
     "output_type": "stream",
     "text": [
      "  Epoch 1 loss: 0.3048621171645143 \n",
      "\n",
      "Result: {'mean_median': 6.3, 'recall': {1: 0.22559999999999997, 5: 0.47840000000000005, 10: 0.5936}, 'median_all': [7.0, 6.0, 6.0, 6.0, 6.0, 8.0, 7.0, 6.0, 6.0, 5.0]}\n"
     ]
    },
    {
     "name": "stderr",
     "output_type": "stream",
     "text": [
      "4400it [00:31, 140.90it/s]\n"
     ]
    },
    {
     "name": "stdout",
     "output_type": "stream",
     "text": [
      "  Epoch 2 loss: 0.2589708590913903 \n",
      "\n",
      "Result: {'mean_median': 5.65, 'recall': {1: 0.24210000000000004, 5: 0.4985000000000001, 10: 0.605}, 'median_all': [6.0, 5.0, 6.0, 6.0, 6.5, 5.0, 6.0, 5.0, 5.0, 6.0]}\n"
     ]
    }
   ],
   "source": [
    "no_epochs = 3\n",
    "img_model = ImgEncoder(512).to('cuda:1')\n",
    "txt_model = TextEncoder(512).to('cuda:1')\n",
    "lowest_median_rank = 99.0\n",
    "optimizer_txt = torch.optim.Adam(txt_model.parameters(), lr=1e-6, weight_decay=1e-7)\n",
    "optimizer_img = torch.optim.Adam(img_model.parameters(), lr=1e-6, weight_decay=1e-7)\n",
    "criterion = nn.MSELoss() \n",
    "for epoch in range(no_epochs):\n",
    "    img_model.train()\n",
    "    txt_model.train()\n",
    "    train_loss = train(train_loader, img_model, txt_model, criterion, optimizer_txt, optimizer_img, epoch)\n",
    "    print('  Epoch {} loss: {} {}'.format(epoch, train_loss, \"\\n\"))\n",
    "    with torch.no_grad():\n",
    "        txt_model.eval()\n",
    "        img_model.eval()\n",
    "        out_text, out_img = txt_model(torch.tensor(text_val).to('cuda:1')), img_model(torch.tensor(img_val).to('cuda:1'))\n",
    "        med_rank = rank(out_text,out_img)\n",
    "        if med_rank['mean_median'] < lowest_median_rank:\n",
    "            lowest_median_rank = med_rank['mean_median']\n",
    "            save_model(txt_model, 'text_model_mse')\n",
    "            save_model(img_model, 'img_model_mse')"
   ]
  },
  {
   "cell_type": "code",
   "execution_count": 13,
   "id": "d99765eb",
   "metadata": {},
   "outputs": [],
   "source": [
    "txt_model = load_model('text_model_mse')\n",
    "img_model = load_model('img_model_mse')"
   ]
  },
  {
   "cell_type": "code",
   "execution_count": 17,
   "id": "0acbf0f5",
   "metadata": {},
   "outputs": [
    {
     "name": "stdout",
     "output_type": "stream",
     "text": [
      "Result: {'mean_median': 6.05, 'recall': {1: 0.23230000000000003, 5: 0.4867, 10: 0.6017}, 'median_all': [6.0, 6.0, 5.0, 7.0, 7.0, 6.5, 7.0, 6.0, 5.0, 5.0]}\n"
     ]
    }
   ],
   "source": [
    "with torch.no_grad():\n",
    "    txt_model.eval()\n",
    "    img_model.eval()\n",
    "    out_text_test, out_img_test = txt_model(torch.tensor(text_test).to('cuda:1')), img_model(torch.tensor(img_test).to('cuda:1'))\n",
    "    med_rank = rank(out_text_test,out_img_test)"
   ]
  },
  {
   "cell_type": "code",
   "execution_count": 18,
   "id": "04b2a144",
   "metadata": {},
   "outputs": [],
   "source": [
    "with open('/common/home/gg676/535/task_2/tsne_data/all_text.pkl', 'wb') as fp:\n",
    "    pickle.dump(out_text_test, fp)\n",
    "with open('/common/home/gg676/535/task_2/tsne_data/all_img.pkl', 'wb') as fp:\n",
    "    pickle.dump(out_img_test, fp)"
   ]
  },
  {
   "cell_type": "code",
   "execution_count": null,
   "id": "26a114e7",
   "metadata": {},
   "outputs": [],
   "source": []
  }
 ],
 "metadata": {
  "kernelspec": {
   "display_name": "Python 3",
   "language": "python",
   "name": "python3"
  },
  "language_info": {
   "codemirror_mode": {
    "name": "ipython",
    "version": 3
   },
   "file_extension": ".py",
   "mimetype": "text/x-python",
   "name": "python",
   "nbconvert_exporter": "python",
   "pygments_lexer": "ipython3",
   "version": "3.8.10"
  }
 },
 "nbformat": 4,
 "nbformat_minor": 5
}
