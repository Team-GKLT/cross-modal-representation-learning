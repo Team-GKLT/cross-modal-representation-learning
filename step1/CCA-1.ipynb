{
 "cells": [
  {
   "cell_type": "markdown",
   "id": "1a0c6a8b",
   "metadata": {},
   "source": [
    "# NetID:  gg676, xl598, vt152, smk371"
   ]
  },
  {
   "cell_type": "markdown",
   "id": "05ed91c5",
   "metadata": {},
   "source": [
    "# CCA on our data"
   ]
  },
  {
   "cell_type": "code",
   "execution_count": null,
   "id": "c3f0b71b",
   "metadata": {},
   "outputs": [],
   "source": [
    "import glob\n",
    "import torch\n",
    "import os\n",
    "import pickle\n",
    "import random\n",
    "import numpy as np\n",
    "from sklearn.preprocessing import normalize\n",
    "from cca_zoo.models import CCA"
   ]
  },
  {
   "cell_type": "code",
   "execution_count": null,
   "id": "7ab3b07d",
   "metadata": {},
   "outputs": [],
   "source": [
    "random.seed(42)"
   ]
  },
  {
   "cell_type": "code",
   "execution_count": null,
   "id": "99c1f540",
   "metadata": {},
   "outputs": [],
   "source": [
    "linear_cca = CCA(latent_dims=50)"
   ]
  },
  {
   "cell_type": "code",
   "execution_count": null,
   "id": "f4d44df5",
   "metadata": {},
   "outputs": [],
   "source": [
    "text_combined_train = torch.load('/common/home/gg676/536/data/text_data/results/combined_features.pth')\n",
    "text_combined_test = torch.load('/common/home/gg676/536/data/test/text/results/combined_features.pth')"
   ]
  },
  {
   "cell_type": "code",
   "execution_count": null,
   "id": "fded0003",
   "metadata": {},
   "outputs": [],
   "source": [
    "def load_data(path):\n",
    "    data_list = []\n",
    "\n",
    "    for i in glob.glob(path+'/*'):\n",
    "        x = torch.load(i)\n",
    "        data_list.extend(x)\n",
    "    return data_list\n",
    "img_features_train = load_data('/common/home/gg676/536/data/features/')\n",
    "img_features_test = torch.load('/common/home/gg676/536/data/test/image/features_images.pth')"
   ]
  },
  {
   "cell_type": "code",
   "execution_count": null,
   "id": "b220027d",
   "metadata": {},
   "outputs": [],
   "source": [
    "img_features_train = [t.numpy() for t in img_features_train]\n",
    "text_combined_train = [t.numpy() for t in text_combined_train]\n",
    "img_features_test = [t.numpy() for t in img_features_test]\n",
    "text_combined_test = [t.numpy() for t in text_combined_test]"
   ]
  },
  {
   "cell_type": "code",
   "execution_count": null,
   "id": "3f6c8cb3",
   "metadata": {},
   "outputs": [],
   "source": [
    "linear_cca.fit((np.array(img_features_train), np.array(text_combined_train)))"
   ]
  },
  {
   "cell_type": "code",
   "execution_count": null,
   "id": "ef54a2a5",
   "metadata": {},
   "outputs": [],
   "source": [
    "# Projections of image and text\n",
    "w1, w2 = linear_cca.transform((np.array(img_features_test), np.array(text_combined_test)))"
   ]
  },
  {
   "cell_type": "code",
   "execution_count": null,
   "id": "2ac8b902",
   "metadata": {},
   "outputs": [],
   "source": [
    "im_vecs = w2\n",
    "instr_vecs = w1\n",
    "id_data = torch.load('/common/home/gg676/536/data/test/image/id_images.pth')\n",
    "names_str = id_data"
   ]
  },
  {
   "cell_type": "code",
   "execution_count": null,
   "id": "a9b6d85e",
   "metadata": {},
   "outputs": [],
   "source": [
    "names = np.array(names_str)\n",
    "idxs = np.argsort(names)\n",
    "names = names[idxs]\n",
    "im_vecs = normalize(im_vecs)[idxs]\n",
    "instr_vecs = normalize(instr_vecs)[idxs]"
   ]
  },
  {
   "cell_type": "code",
   "execution_count": null,
   "id": "eb3fba9f",
   "metadata": {},
   "outputs": [],
   "source": [
    "#https://github.com/torralba-lab/im2recipe-Pytorch\n",
    "N = 10000\n",
    "embedding = 'image'\n",
    "idxs = range(N)\n",
    "\n",
    "glob_rank = []\n",
    "glob_recall = {1:0.0,5:0.0,10:0.0}\n",
    "for i in range(10):\n",
    "\n",
    "    ids = random.sample(range(0,len(names)), N)\n",
    "    im_sub = im_vecs[ids,:]\n",
    "    instr_sub = instr_vecs[ids,:]\n",
    "    ids_sub = names[ids]\n",
    "\n",
    "    if embedding == 'image':\n",
    "        sims = np.dot(im_sub,instr_sub.T) # for im2recipe\n",
    "    else:\n",
    "        sims = np.dot(instr_sub,im_sub.T) # for recipe2im\n",
    "\n",
    "    med_rank = []\n",
    "    recall = {1:0.0,5:0.0,10:0.0}\n",
    "\n",
    "    for ii in idxs:\n",
    "\n",
    "        name = ids_sub[ii]\n",
    "        # get a column of similarities\n",
    "        sim = sims[ii,:]\n",
    "\n",
    "        # sort indices in descending order\n",
    "        sorting = np.argsort(sim)[::-1].tolist()\n",
    "\n",
    "        # find where the index of the pair sample ended up in the sorting\n",
    "        pos = sorting.index(ii)\n",
    "\n",
    "        if (pos+1) == 1:\n",
    "            recall[1]+=1\n",
    "        if (pos+1) <=5:\n",
    "            recall[5]+=1\n",
    "        if (pos+1)<=10:\n",
    "            recall[10]+=1\n",
    "\n",
    "        # store the position\n",
    "        med_rank.append(pos+1)\n",
    "\n",
    "    for i in recall.keys():\n",
    "        recall[i]=recall[i]/N\n",
    "\n",
    "    med = np.median(med_rank)\n",
    "    print (\"median\", med)\n",
    "\n",
    "    for i in recall.keys():\n",
    "        glob_recall[i]+=recall[i]\n",
    "    glob_rank.append(med)\n",
    "\n",
    "for i in glob_recall.keys():\n",
    "    glob_recall[i] = glob_recall[i]/10\n",
    "print (\"Mean median\", np.average(glob_rank))\n",
    "print (\"Recall\", glob_recall)"
   ]
  },
  {
   "cell_type": "code",
   "execution_count": null,
   "id": "7b0c9d3f",
   "metadata": {},
   "outputs": [],
   "source": []
  },
  {
   "cell_type": "code",
   "execution_count": null,
   "id": "d504fbca",
   "metadata": {},
   "outputs": [],
   "source": [
    "from cca_zoo.models import CCA\n",
    "import torch\n",
    "import numpy as np\n",
    "import pickle\n",
    "import time"
   ]
  },
  {
   "cell_type": "code",
   "execution_count": null,
   "id": "ba7bae3b",
   "metadata": {},
   "outputs": [],
   "source": [
    "linear_cca = CCA(latent_dims=50)"
   ]
  },
  {
   "cell_type": "code",
   "execution_count": null,
   "id": "165c53cf",
   "metadata": {},
   "outputs": [],
   "source": [
    "def load_pickled_data(path):\n",
    "    with open(path, 'rb') as fp:\n",
    "        data = pickle.load(fp)\n",
    "    return data\n",
    "text_title_train = load_pickled_data('/common/home/gg676/Downloads/title_embeddings_train.pkl')\n",
    "text_title_test = load_pickled_data('/common/home/gg676/Downloads/title_embeddings_test.pkl')"
   ]
  },
  {
   "cell_type": "code",
   "execution_count": null,
   "id": "625b7333",
   "metadata": {},
   "outputs": [],
   "source": [
    "img_text_features_train = load_pickled_data('/common/home/gg676/Downloads/embeddings_train1.pkl')\n",
    "img_text_features_test = load_pickled_data('/common/home/gg676/Downloads/embeddings_test1.pkl')"
   ]
  },
  {
   "cell_type": "code",
   "execution_count": null,
   "id": "5bbdfad0",
   "metadata": {},
   "outputs": [],
   "source": [
    "start = time.time()\n",
    "linear_cca.fit((img_text_features_train[0], text_title_train[0]))\n",
    "print(time.time() - start)"
   ]
  },
  {
   "cell_type": "code",
   "execution_count": null,
   "id": "28f908e1",
   "metadata": {},
   "outputs": [],
   "source": [
    "# Required for TSNE\n",
    "def save_projections(file_name, data):\n",
    "    with open('/common/home/gg676/535/tsne_data/'+file_name, 'wb') as fp:\n",
    "        pickle.dump(data, fp)\n",
    "save_projections('image_wrt_title.pkl', w1)\n",
    "save_projections('title.pkl', w2)"
   ]
  },
  {
   "cell_type": "code",
   "execution_count": null,
   "id": "d0839e91",
   "metadata": {},
   "outputs": [],
   "source": [
    "# Projections of image and text\n",
    "w1, w2 = linear_cca.transform((img_text_features_test[0], text_title_test[0]))"
   ]
  },
  {
   "cell_type": "code",
   "execution_count": null,
   "id": "8f28db1a",
   "metadata": {},
   "outputs": [],
   "source": [
    "# Rest of the code is same as above for calculating the rank"
   ]
  }
 ],
 "metadata": {
  "kernelspec": {
   "display_name": "Python 3 (ipykernel)",
   "language": "python",
   "name": "python3"
  },
  "language_info": {
   "codemirror_mode": {
    "name": "ipython",
    "version": 3
   },
   "file_extension": ".py",
   "mimetype": "text/x-python",
   "name": "python",
   "nbconvert_exporter": "python",
   "pygments_lexer": "ipython3",
   "version": "3.9.7"
  }
 },
 "nbformat": 4,
 "nbformat_minor": 5
}
